{
  "cells": [
    {
      "cell_type": "markdown",
      "metadata": {
        "id": "view-in-github",
        "colab_type": "text"
      },
      "source": [
        "<a href=\"https://colab.research.google.com/github/Sirisha-Dugyala/blog1/blob/main/trained_movinets_notebook.ipynb\" target=\"_parent\"><img src=\"https://colab.research.google.com/assets/colab-badge.svg\" alt=\"Open In Colab\"/></a>"
      ]
    },
    {
      "cell_type": "markdown",
      "source": [
        "## Video Classification\n",
        "\n",
        "This notebook provides basic example code to build, run, and fine-tune [MoViNets (Mobile Video Networks)](https://arxiv.org/pdf/2103.11511.pdf).\n",
        "\n",
        "Pretrained models are provided by [TensorFlow Hub](https://tfhub.dev/google/collections/movinet/) and the [TensorFlow Model Garden](https://github.com/tensorflow/models/tree/master/official/projects/movinet), trained on [UCF101](https://www.crcv.ucf.edu/data/UCF101.php) for video action classification. All Models use TensorFlow 2 with Keras for inference and training.\n",
        "\n",
        "The following steps will be performed:\n",
        "\n",
        "1. [Installation](#scrollTo=dPx7Pp7fbgLY&uniqifier=1)\n",
        "2. [Download a subset of the UCF101 dataset](#scrollTo=KbhwWLLM7FXo&uniqifier=1)\n",
        "3. [Download a pre-trained MoViNet model](#scrollTo=aYYShfhMx9DW&uniqifier=1)\n",
        "4. [Save and load model](#scrollTo=YDk6LAciJfnA&uniqifier=1)\n",
        "5. [Evaluate the model](#scrollTo=KkLl2zF8G9W0&uniqifier=1)\n",
        "6. [Inferencing using the trained model on GIF](#scrollTo=6s9Q_JBcVmN1&uniqifier=1)\n",
        "\n",
        "**Note: Enabling GPU Acceleration**\n",
        "\n",
        "To utilize GPU acceleration in Colab, follow these steps:\n",
        "\n",
        "1. Click on the \"Runtime\" menu at the top.\n",
        "2. Select \"Change runtime type\" from the dropdown menu.\n",
        "3. In the dialog box, choose \"GPU\" as the hardware accelerator.\n",
        "4. Click on the \"Save\" button.\n",
        "\n",
        "Enabling GPU will allow you to take advantage of faster computation for deep learning tasks.\n",
        "\n",
        "\n",
        "\n",
        "\n",
        "\n",
        "\n",
        "\n",
        "\n"
      ],
      "metadata": {
        "id": "4xXTGfjZeCkO"
      }
    },
    {
      "cell_type": "markdown",
      "metadata": {
        "id": "dPx7Pp7fbgLY"
      },
      "source": [
        "## Installation\n",
        "\n"
      ]
    },
    {
      "cell_type": "code",
      "source": [
        "%cd /content/"
      ],
      "metadata": {
        "colab": {
          "base_uri": "https://localhost:8080/"
        },
        "id": "6ssfc-BPfBI1",
        "outputId": "41e0c9ce-1e16-496f-d2ef-d92767f2d90c"
      },
      "execution_count": 1,
      "outputs": [
        {
          "output_type": "stream",
          "name": "stdout",
          "text": [
            "/content\n"
          ]
        }
      ]
    },
    {
      "cell_type": "code",
      "execution_count": 3,
      "metadata": {
        "id": "OreRoZQc148d"
      },
      "outputs": [],
      "source": [
        "%%capture\n",
        "!pip install remotezip tqdm opencv-python==4.5.2.52 opencv-python-headless==4.5.2.52 tf-models-official\n",
        "!pip install remotezip\n",
        "!pip install tf-models-official\n",
        "!pip install -q mediapy\n"
      ]
    },
    {
      "cell_type": "code",
      "execution_count": 2,
      "metadata": {
        "id": "XloHnNOTiJjt",
        "colab": {
          "base_uri": "https://localhost:8080/"
        },
        "outputId": "c3b060a4-6fd2-4e27-b120-90b6a3711c6e"
      },
      "outputs": [
        {
          "output_type": "stream",
          "name": "stdout",
          "text": [
            "/content/video_classification\n"
          ]
        }
      ],
      "source": [
        "!mkdir video_classification\n",
        "%cd video_classification"
      ]
    },
    {
      "cell_type": "markdown",
      "source": [
        "Install Dependencies: Run the following code block to install the necessary dependencies, including remotezip, tqdm, opencv-python, tf-models-official, and other required packages."
      ],
      "metadata": {
        "id": "UusG__Cfdn77"
      }
    },
    {
      "cell_type": "markdown",
      "metadata": {
        "id": "6IxptbOXI932"
      },
      "source": [
        "Import Libraries: Make sure to import the essential libraries for video processing, data manipulation, visualization, and deep learning operations. Include the following modules in your code:\n",
        "\n",
        "**NOTE!!**: Below code might give you an error but running it again would solve the issue"
      ]
    },
    {
      "cell_type": "code",
      "execution_count": 4,
      "metadata": {
        "id": "QImPsudoK9JI"
      },
      "outputs": [],
      "source": [
        "import tqdm\n",
        "import random\n",
        "import pathlib\n",
        "import itertools\n",
        "import collections\n",
        "import os\n",
        "\n",
        "import cv2\n",
        "import numpy as np\n",
        "import remotezip as rz\n",
        "import seaborn as sns\n",
        "import matplotlib.pyplot as plt\n",
        "\n",
        "import keras\n",
        "import tensorflow as tf\n",
        "import tensorflow_hub as hub\n",
        "from tensorflow.keras import layers\n",
        "from tensorflow.keras.optimizers import Adam\n",
        "from tensorflow.keras.losses import SparseCategoricalCrossentropy\n",
        "\n",
        "# Import the MoViNet model from TensorFlow Models (tf-models-official) for the MoViNet model\n",
        "from official.projects.movinet.modeling import movinet\n",
        "from official.projects.movinet.modeling import movinet_model\n",
        "\n",
        "import mediapy as media\n"
      ]
    },
    {
      "cell_type": "markdown",
      "source": [
        "With these installation and import steps completed, you are now ready to leverage the power of MoViNet for accurate video classification.\n",
        "\n",
        "Feel free to customize the installation and import instructions based on your specific needs."
      ],
      "metadata": {
        "id": "-6OlKeK8ew4A"
      }
    },
    {
      "cell_type": "markdown",
      "metadata": {
        "id": "KbhwWLLM7FXo"
      },
      "source": [
        "## Download a subset of the UCF101 dataset\n",
        "\n",
        "The [UCF101 dataset](https://www.tensorflow.org/datasets/catalog/ucf101) contains 101 categories of different actions in video, primarily used in action recognition. You will use a subset of these categories in this demo."
      ]
    },
    {
      "cell_type": "markdown",
      "source": [
        "These helper functions collectively assist in various stages of video processing, model loading, classification, and result visualization. They enhance the functionality and usability of the code by encapsulating specific tasks and making the code more modular and organized."
      ],
      "metadata": {
        "id": "GM4gvQopfQ6a"
      }
    },
    {
      "cell_type": "code",
      "execution_count": 5,
      "metadata": {
        "id": "PASTmmsObpf4"
      },
      "outputs": [],
      "source": [
        "#@title\n",
        "\n",
        "def get_class(fname):\n",
        "  \"\"\" Retrieve the name of the class given a filename.\n",
        "\n",
        "    Args:\n",
        "      fname: Name of the file in the UCF101 dataset.\n",
        "\n",
        "    Returns:\n",
        "      Class that the file belongs to.\n",
        "  \"\"\"\n",
        "  return fname.split('_')[-3]\n",
        "\n",
        "\n",
        "def list_files_per_class(zip_url):\n",
        "  \"\"\"\n",
        "    List the files in each class of the dataset given the zip URL.\n",
        "\n",
        "    Args:\n",
        "      zip_url: URL from which the files can be unzipped.\n",
        "\n",
        "    Return:\n",
        "      files: List of files in each of the classes.\n",
        "  \"\"\"\n",
        "  files = []\n",
        "  with rz.RemoteZip(URL) as zip:\n",
        "    for zip_info in zip.infolist():\n",
        "      files.append(zip_info.filename)\n",
        "  return files\n",
        "\n",
        "def get_class(fname):\n",
        "  \"\"\"\n",
        "    Retrieve the name of the class given a filename.\n",
        "\n",
        "    Args:\n",
        "      fname: Name of the file in the UCF101 dataset.\n",
        "\n",
        "    Return:\n",
        "      Class that the file belongs to.\n",
        "  \"\"\"\n",
        "  return fname.split('_')[-3]\n",
        "\n",
        "def get_files_per_class(files):\n",
        "  \"\"\"\n",
        "    Retrieve the files that belong to each class.\n",
        "\n",
        "    Args:\n",
        "      files: List of files in the dataset.\n",
        "\n",
        "    Return:\n",
        "      Dictionary of class names (key) and files (values).\n",
        "  \"\"\"\n",
        "  files_for_class = collections.defaultdict(list)\n",
        "  for fname in files:\n",
        "    class_name = get_class(fname)\n",
        "    files_for_class[class_name].append(fname)\n",
        "  return files_for_class\n",
        "\n",
        "def select_subset_of_classes(files_for_class, classes, files_per_class):\n",
        "  \"\"\" Create a dictionary with the class name and a subset of the files in that class.\n",
        "\n",
        "    Args:\n",
        "      files_for_class: Dictionary of class names (key) and files (values).\n",
        "      classes: List of classes.\n",
        "      files_per_class: Number of files per class of interest.\n",
        "\n",
        "    Returns:\n",
        "      Dictionary with class as key and list of specified number of video files in that class.\n",
        "  \"\"\"\n",
        "  files_subset = dict()\n",
        "\n",
        "  for class_name in classes:\n",
        "    class_files = files_for_class[class_name]\n",
        "    files_subset[class_name] = class_files[:files_per_class]\n",
        "\n",
        "  return files_subset\n",
        "\n",
        "def download_from_zip(zip_url, to_dir, file_names):\n",
        "  \"\"\" Download the contents of the zip file from the zip URL.\n",
        "\n",
        "    Args:\n",
        "      zip_url: A URL with a zip file containing data.\n",
        "      to_dir: A directory to download data to.\n",
        "      file_names: Names of files to download.\n",
        "  \"\"\"\n",
        "  with rz.RemoteZip(zip_url) as zip:\n",
        "    for fn in tqdm.tqdm(file_names):\n",
        "      class_name = get_class(fn)\n",
        "      zip.extract(fn, str(to_dir / class_name))\n",
        "      unzipped_file = to_dir / class_name / fn\n",
        "\n",
        "      fn = pathlib.Path(fn).parts[-1]\n",
        "      output_file = to_dir / class_name / fn\n",
        "      unzipped_file.rename(output_file)\n",
        "\n",
        "def split_class_lists(files_for_class, count):\n",
        "  \"\"\"\n",
        "    Returns the list of files belonging to a subset of data as well as the remainder of\n",
        "    files that need to be downloaded.\n",
        "\n",
        "    Args:\n",
        "      files_for_class: Files belonging to a particular class of data.\n",
        "      count: Number of files to download.\n",
        "\n",
        "    Return:\n",
        "      split_files: Files belonging to the subset of data.\n",
        "      remainder: Dictionary of the remainder of files that need to be downloaded.\n",
        "  \"\"\"\n",
        "  split_files = []\n",
        "  remainder = {}\n",
        "  for cls in files_for_class:\n",
        "    split_files.extend(files_for_class[cls][:count])\n",
        "    remainder[cls] = files_for_class[cls][count:]\n",
        "  return split_files, remainder\n",
        "\n",
        "def download_ucf_101_subset(zip_url, num_classes, splits, download_dir,classes_1):\n",
        "  \"\"\" Download a subset of the UCF101 dataset and split them into various parts, such as\n",
        "    training, validation, and test.\n",
        "\n",
        "    Args:\n",
        "      zip_url: A URL with a ZIP file with the data.\n",
        "      num_classes: Number of labels.\n",
        "      splits: Dictionary specifying the training, validation, test, etc. (key) division of data\n",
        "              (value is number of files per split).\n",
        "      download_dir: Directory to download data to.\n",
        "\n",
        "    Return:\n",
        "      Mapping of the directories containing the subsections of data.\n",
        "  \"\"\"\n",
        "  files = list_files_from_zip_url(zip_url)\n",
        "  for f in files:\n",
        "    path = os.path.normpath(f)\n",
        "    tokens = path.split(os.sep)\n",
        "    if len(tokens) <= 2:\n",
        "      files.remove(f) # Remove that item from the list if it does not have a filename\n",
        "\n",
        "  files_for_class = get_files_per_class(files)\n",
        "\n",
        "  # classes = list(files_for_class.keys())[:num_classes]\n",
        "  classes = classes_1\n",
        "\n",
        "  for cls in classes:\n",
        "    random.shuffle(files_for_class[cls])\n",
        "\n",
        "  # Only use the number of classes you want in the dictionary\n",
        "  files_for_class = {x: files_for_class[x] for x in classes}\n",
        "\n",
        "  dirs = {}\n",
        "  for split_name, split_count in splits.items():\n",
        "    print(split_name, \":\")\n",
        "    split_dir = download_dir / split_name\n",
        "    split_files, files_for_class = split_class_lists(files_for_class, split_count)\n",
        "    download_from_zip(zip_url, split_dir, split_files)\n",
        "    dirs[split_name] = split_dir\n",
        "\n",
        "  return dirs\n",
        "\n",
        "def format_frames(frame, output_size):\n",
        "  \"\"\"\n",
        "    Pad and resize an image from a video.\n",
        "\n",
        "    Args:\n",
        "      frame: Image that needs to resized and padded.\n",
        "      output_size: Pixel size of the output frame image.\n",
        "\n",
        "    Return:\n",
        "      Formatted frame with padding of specified output size.\n",
        "  \"\"\"\n",
        "  frame = tf.image.convert_image_dtype(frame, tf.float32)\n",
        "  frame = tf.image.resize_with_pad(frame, *output_size)\n",
        "  return frame\n",
        "\n",
        "def frames_from_video_file(video_path, n_frames, output_size = (224,224), frame_step = 15):\n",
        "  \"\"\"\n",
        "    Creates frames from each video file present for each category.\n",
        "\n",
        "    Args:\n",
        "      video_path: File path to the video.\n",
        "      n_frames: Number of frames to be created per video file.\n",
        "      output_size: Pixel size of the output frame image.\n",
        "\n",
        "    Return:\n",
        "      An NumPy array of frames in the shape of (n_frames, height, width, channels).\n",
        "  \"\"\"\n",
        "  # Read each video frame by frame\n",
        "  result = []\n",
        "  src = cv2.VideoCapture(str(video_path))\n",
        "\n",
        "  video_length = src.get(cv2.CAP_PROP_FRAME_COUNT)\n",
        "\n",
        "  need_length = 1 + (n_frames - 1) * frame_step\n",
        "\n",
        "  if need_length > video_length:\n",
        "    start = 0\n",
        "  else:\n",
        "    max_start = video_length - need_length\n",
        "    start = random.randint(0, max_start + 1)\n",
        "\n",
        "  src.set(cv2.CAP_PROP_POS_FRAMES, start)\n",
        "  # ret is a boolean indicating whether read was successful, frame is the image itself\n",
        "  ret, frame = src.read()\n",
        "  result.append(format_frames(frame, output_size))\n",
        "\n",
        "  for _ in range(n_frames - 1):\n",
        "    for _ in range(frame_step):\n",
        "      ret, frame = src.read()\n",
        "    if ret:\n",
        "      frame = format_frames(frame, output_size)\n",
        "      result.append(frame)\n",
        "    else:\n",
        "      result.append(np.zeros_like(result[0]))\n",
        "  src.release()\n",
        "  result = np.array(result)[..., [2, 1, 0]]\n",
        "\n",
        "  return result\n",
        "\n",
        "def list_files_from_zip_url(zip_url):\n",
        "  \"\"\" List the files in each class of the dataset given a URL with the zip file.\n",
        "\n",
        "    Args:\n",
        "      zip_url: A URL from which the files can be extracted from.\n",
        "\n",
        "    Returns:\n",
        "      List of files in each of the classes.\n",
        "  \"\"\"\n",
        "  files = []\n",
        "  with rz.RemoteZip(zip_url) as zip:\n",
        "    for zip_info in zip.infolist():\n",
        "      files.append(zip_info.filename)\n",
        "  return files\n",
        "\n",
        "class FrameGenerator:\n",
        "  def __init__(self, path, n_frames, training = False):\n",
        "    \"\"\" Returns a set of frames with their associated label.\n",
        "\n",
        "      Args:\n",
        "        path: Video file paths.\n",
        "        n_frames: Number of frames.\n",
        "        training: Boolean to determine if training dataset is being created.\n",
        "    \"\"\"\n",
        "    self.path = path\n",
        "    self.n_frames = n_frames\n",
        "    self.training = training\n",
        "    self.class_names = sorted(set(p.name for p in self.path.iterdir() if p.is_dir()))\n",
        "    self.class_ids_for_name = dict((name, idx) for idx, name in enumerate(self.class_names))\n",
        "\n",
        "  def get_files_and_class_names(self):\n",
        "    video_paths = list(self.path.glob('*/*.avi'))\n",
        "    classes = [p.parent.name for p in video_paths]\n",
        "    return video_paths, classes\n",
        "\n",
        "  def __call__(self):\n",
        "    video_paths, classes = self.get_files_and_class_names()\n",
        "\n",
        "    pairs = list(zip(video_paths, classes))\n",
        "\n",
        "    if self.training:\n",
        "      random.shuffle(pairs)\n",
        "\n",
        "    for path, name in pairs:\n",
        "      video_frames = frames_from_video_file(path, self.n_frames)\n",
        "      label = self.class_ids_for_name[name] # Encode labels\n",
        "      yield video_frames, label"
      ]
    },
    {
      "cell_type": "code",
      "execution_count": 6,
      "metadata": {
        "id": "lY-x7TaZlK6O"
      },
      "outputs": [],
      "source": [
        "def list_files_from_zip_url(zip_url):\n",
        "  \"\"\" List the files in each class of the dataset given a URL with the zip file.\n",
        "\n",
        "    Args:\n",
        "      zip_url: A URL from which the files can be extracted from.\n",
        "\n",
        "    Returns:\n",
        "      List of files in each of the classes.\n",
        "  \"\"\"\n",
        "  files = []\n",
        "  with rz.RemoteZip(zip_url) as zip:\n",
        "    for zip_info in zip.infolist():\n",
        "      files.append(zip_info.filename)\n",
        "  return files"
      ]
    },
    {
      "cell_type": "code",
      "execution_count": 20,
      "metadata": {
        "colab": {
          "base_uri": "https://localhost:8080/"
        },
        "id": "lYErXAdUr-rk",
        "outputId": "661a97a5-4003-41ee-d997-6781e75f2286"
      },
      "outputs": [
        {
          "output_type": "stream",
          "name": "stdout",
          "text": [
            "Collecting rarfile\n",
            "  Downloading rarfile-4.2-py3-none-any.whl.metadata (4.4 kB)\n",
            "Downloading rarfile-4.2-py3-none-any.whl (29 kB)\n",
            "Installing collected packages: rarfile\n",
            "Successfully installed rarfile-4.2\n",
            "Requirement already satisfied: requests in /usr/local/lib/python3.10/dist-packages (2.32.3)\n",
            "Requirement already satisfied: charset-normalizer<4,>=2 in /usr/local/lib/python3.10/dist-packages (from requests) (3.4.0)\n",
            "Requirement already satisfied: idna<4,>=2.5 in /usr/local/lib/python3.10/dist-packages (from requests) (3.10)\n",
            "Requirement already satisfied: urllib3<3,>=1.21.1 in /usr/local/lib/python3.10/dist-packages (from requests) (2.2.3)\n",
            "Requirement already satisfied: certifi>=2017.4.17 in /usr/local/lib/python3.10/dist-packages (from requests) (2024.8.30)\n"
          ]
        },
        {
          "output_type": "execute_result",
          "data": {
            "text/plain": [
              "['UCF-101/ApplyEyeMakeup/v_ApplyEyeMakeup_g01_c01.avi',\n",
              " 'UCF-101/ApplyEyeMakeup/v_ApplyEyeMakeup_g01_c02.avi',\n",
              " 'UCF-101/ApplyEyeMakeup/v_ApplyEyeMakeup_g01_c03.avi',\n",
              " 'UCF-101/ApplyEyeMakeup/v_ApplyEyeMakeup_g01_c04.avi',\n",
              " 'UCF-101/ApplyEyeMakeup/v_ApplyEyeMakeup_g01_c05.avi',\n",
              " 'UCF-101/ApplyEyeMakeup/v_ApplyEyeMakeup_g01_c06.avi',\n",
              " 'UCF-101/ApplyEyeMakeup/v_ApplyEyeMakeup_g02_c01.avi',\n",
              " 'UCF-101/ApplyEyeMakeup/v_ApplyEyeMakeup_g02_c02.avi',\n",
              " 'UCF-101/ApplyEyeMakeup/v_ApplyEyeMakeup_g02_c03.avi',\n",
              " 'UCF-101/ApplyEyeMakeup/v_ApplyEyeMakeup_g02_c04.avi']"
            ]
          },
          "metadata": {},
          "execution_count": 20
        }
      ],
      "source": [
        "!pip install rarfile\n",
        "!pip install requests\n",
        "\n",
        "import remotezip as rz\n",
        "import os\n",
        "import pathlib\n",
        "import random\n",
        "import collections\n",
        "import tqdm\n",
        "import cv2\n",
        "import numpy as np\n",
        "import tensorflow as tf\n",
        "import requests\n",
        "from requests.packages.urllib3.exceptions import InsecureRequestWarning\n",
        "import tempfile  # Import tempfile for creating temporary files\n",
        "import io  # Import io for working with in-memory streams\n",
        "import rarfile  # Import rarfile for handling rar archives\n",
        "import zipfile\n",
        "\n",
        "requests.packages.urllib3.disable_warnings(InsecureRequestWarning)\n",
        "\n",
        "def list_files_from_zip_url(zip_url):\n",
        "    \"\"\"\n",
        "    List the files in each class of the dataset given a URL with the zip file.\n",
        "\n",
        "    Args:\n",
        "      zip_url: A URL from which the files can be extracted from.\n",
        "\n",
        "    Returns:\n",
        "      List of files in each of the classes.\n",
        "    \"\"\"\n",
        "    # Download the file in chunks and write to a temporary file\n",
        "    with tempfile.NamedTemporaryFile(delete=False, suffix=\".rar\") as temp_file:  # Assume it's a rar file based on the URL\n",
        "        with requests.get(zip_url, stream=True, verify=False) as response:\n",
        "            response.raise_for_status()\n",
        "            for chunk in response.iter_content(chunk_size=8192):\n",
        "                temp_file.write(chunk)\n",
        "        temp_file_path = temp_file.name\n",
        "\n",
        "    # Use rarfile to extract files list from the downloaded rar file\n",
        "    files = []\n",
        "    with rarfile.RarFile(temp_file_path, 'r') as rar_ref:\n",
        "        files = rar_ref.namelist()\n",
        "\n",
        "    # Remove the temporary file\n",
        "    os.remove(temp_file_path)\n",
        "    return files\n",
        "\n",
        "URL = \"https://www.crcv.ucf.edu/data/UCF101/UCF101.rar\"  # Updated URL to point to the rar file\n",
        "\n",
        "files = list_files_from_zip_url(URL)\n",
        "files = [f for f in files if f.endswith('.avi')]\n",
        "files[:10]"
      ]
    },
    {
      "cell_type": "markdown",
      "metadata": {
        "id": "rQ4l8D9dFPS7"
      },
      "source": [
        "Begin with a few videos and a limited number of classes for training. After running the above code block, notice that the class name is included in the filename of each video.\n",
        "\n",
        "Define the `get_class` function that retrieves the class name from a filename. Then, create a function called `get_files_per_class` which converts the list of all files (`files` above) into a dictionary listing the files for each class:"
      ]
    },
    {
      "cell_type": "code",
      "execution_count": 8,
      "metadata": {
        "id": "yyyivOX0sO19"
      },
      "outputs": [],
      "source": [
        "def get_class(fname):\n",
        "  \"\"\" Retrieve the name of the class given a filename.\n",
        "\n",
        "    Args:\n",
        "      fname: Name of the file in the UCF101 dataset.\n",
        "\n",
        "    Returns:\n",
        "      Class that the file belongs to.\n",
        "  \"\"\"\n",
        "  return fname.split('_')[-3]"
      ]
    },
    {
      "cell_type": "code",
      "execution_count": 9,
      "metadata": {
        "id": "1qnH0xKzlyw_"
      },
      "outputs": [],
      "source": [
        "def get_files_per_class(files):\n",
        "  \"\"\" Retrieve the files that belong to each class.\n",
        "\n",
        "    Args:\n",
        "      files: List of files in the dataset.\n",
        "\n",
        "    Returns:\n",
        "      Dictionary of class names (key) and files (values).\n",
        "  \"\"\"\n",
        "  files_for_class = collections.defaultdict(list)\n",
        "  for fname in files:\n",
        "    class_name = get_class(fname)\n",
        "    files_for_class[class_name].append(fname)\n",
        "  return files_for_class"
      ]
    },
    {
      "cell_type": "markdown",
      "metadata": {
        "id": "VxSt5YgSGrWn"
      },
      "source": [
        "Once you have the list of files per class, you can choose how many classes you would like to use and how many videos you would like per class in order to create your dataset."
      ]
    },
    {
      "cell_type": "code",
      "execution_count": 10,
      "metadata": {
        "id": "qPdURg74uUTk"
      },
      "outputs": [],
      "source": [
        "FILES_PER_CLASS = 100"
      ]
    },
    {
      "cell_type": "code",
      "execution_count": 14,
      "metadata": {
        "id": "GUs0xtXsr9i3",
        "outputId": "445287cb-a4e4-43bc-cea3-fc8784ee74e2",
        "colab": {
          "base_uri": "https://localhost:8080/"
        }
      },
      "outputs": [
        {
          "output_type": "stream",
          "name": "stdout",
          "text": [
            "Error: The file 'files_list.txt' was not found in /content/video_classification.\n",
            "Please make sure the file exists and is in the correct location.\n"
          ]
        }
      ],
      "source": [
        "import collections\n",
        "import os\n",
        "\n",
        "# Get the current working directory\n",
        "current_directory = os.getcwd()\n",
        "\n",
        "# Construct the full path to the file\n",
        "file_path = os.path.join(current_directory, 'files_list.txt')\n",
        "\n",
        "try:\n",
        "    # Attempt to open the file\n",
        "    with open(file_path, 'r') as f:\n",
        "        files = [line.strip() for line in f]\n",
        "except FileNotFoundError:\n",
        "    # Handle the case where the file is not found\n",
        "    print(f\"Error: The file 'files_list.txt' was not found in {current_directory}.\")\n",
        "    print(\"Please make sure the file exists and is in the correct location.\")\n",
        "    # You can choose to exit the script here or proceed with alternative actions\n",
        "    # For example:\n",
        "    # import sys\n",
        "    # sys.exit(1)  # Exit with an error code\n",
        "    files = []  # Initialize files as an empty list to avoid further errors\n",
        "\n",
        "# Continue with the rest of your code\n",
        "files_for_class = get_files_per_class(files)\n",
        "classes = list(files_for_class.keys())"
      ]
    },
    {
      "cell_type": "markdown",
      "metadata": {
        "id": "N62fE2aPcm2_"
      },
      "source": [
        "All the classes of UCF101 dataset"
      ]
    },
    {
      "cell_type": "code",
      "execution_count": 21,
      "metadata": {
        "colab": {
          "base_uri": "https://localhost:8080/"
        },
        "id": "l2z2vc8iMNYL",
        "outputId": "03ef53ad-a959-4401-b01a-e823c36b9873"
      },
      "outputs": [
        {
          "output_type": "execute_result",
          "data": {
            "text/plain": [
              "[]"
            ]
          },
          "metadata": {},
          "execution_count": 21
        }
      ],
      "source": [
        "classes"
      ]
    },
    {
      "cell_type": "markdown",
      "metadata": {
        "id": "0R1rnWuJcsBn"
      },
      "source": [
        "These are the selected classes from the above classes list"
      ]
    },
    {
      "cell_type": "code",
      "execution_count": 22,
      "metadata": {
        "id": "JBvC66zrMfq1"
      },
      "outputs": [],
      "source": [
        "classes_1 = ['Archery',\n",
        " 'BabyCrawling',\n",
        " 'BoxingPunchingBag',\n",
        " 'BoxingSpeedBag',\n",
        " 'CliffDiving',\n",
        " 'CuttingInKitchen',\n",
        " 'Diving',\n",
        " 'Fencing',\n",
        " 'Hammering',\n",
        " 'HammerThrow',\n",
        " 'HighJump',\n",
        " 'HulaHoop',\n",
        " 'IceDancing',\n",
        " 'JavelinThrow',\n",
        " 'LongJump',\n",
        " 'Mixing',\n",
        " 'MoppingFloor',\n",
        " 'PoleVault',\n",
        " 'Punch',\n",
        " 'SalsaSpin',\n",
        " 'Shotput',\n",
        " 'SumoWrestling',\n",
        " 'TaiChi',\n",
        " 'ThrowDiscus',\n",
        " 'TrampolineJumping']\n",
        "\n",
        "NUM_CLASSES = len(classes_1)"
      ]
    },
    {
      "cell_type": "code",
      "execution_count": 24,
      "metadata": {
        "colab": {
          "base_uri": "https://localhost:8080/"
        },
        "id": "-YqFARvqwon9",
        "outputId": "36c40ade-5917-41b9-d970-b0a0996a216c"
      },
      "outputs": [
        {
          "output_type": "stream",
          "name": "stdout",
          "text": [
            "Num classes: 25\n",
            "Num videos for class[0]: 0\n"
          ]
        }
      ],
      "source": [
        "print('Num classes:', len(classes_1))\n",
        "print('Num videos for class[0]:', len(files_for_class[classes_1[0]]))"
      ]
    },
    {
      "cell_type": "markdown",
      "metadata": {
        "id": "yFAFqKqE92bQ"
      },
      "source": [
        "Create a new function called `select_subset_of_classes` that selects a subset of the classes present within the dataset and a particular number of files per class:"
      ]
    },
    {
      "cell_type": "code",
      "execution_count": 25,
      "metadata": {
        "id": "O3jek4QimIj-"
      },
      "outputs": [],
      "source": [
        "def select_subset_of_classes(files_for_class, classes, files_per_class):\n",
        "  \"\"\" Create a dictionary with the class name and a subset of the files in that class.\n",
        "\n",
        "    Args:\n",
        "      files_for_class: Dictionary of class names (key) and files (values).\n",
        "      classes: List of classes.\n",
        "      files_per_class: Number of files per class of interest.\n",
        "\n",
        "    Returns:\n",
        "      Dictionary with class as key and list of specified number of video files in that class.\n",
        "  \"\"\"\n",
        "  files_subset = dict()\n",
        "\n",
        "  for class_name in classes:\n",
        "    class_files = files_for_class[class_name]\n",
        "    files_subset[class_name] = class_files[:files_per_class]\n",
        "\n",
        "  return files_subset"
      ]
    },
    {
      "cell_type": "code",
      "execution_count": 26,
      "metadata": {
        "colab": {
          "base_uri": "https://localhost:8080/"
        },
        "id": "5cjcz6Gpcb-W",
        "outputId": "9d9d5b93-fa23-448e-ebbc-600347023db8"
      },
      "outputs": [
        {
          "output_type": "execute_result",
          "data": {
            "text/plain": [
              "['Archery',\n",
              " 'BabyCrawling',\n",
              " 'BoxingPunchingBag',\n",
              " 'BoxingSpeedBag',\n",
              " 'CliffDiving',\n",
              " 'CuttingInKitchen',\n",
              " 'Diving',\n",
              " 'Fencing',\n",
              " 'Hammering',\n",
              " 'HammerThrow',\n",
              " 'HighJump',\n",
              " 'HulaHoop',\n",
              " 'IceDancing',\n",
              " 'JavelinThrow',\n",
              " 'LongJump',\n",
              " 'Mixing',\n",
              " 'MoppingFloor',\n",
              " 'PoleVault',\n",
              " 'Punch',\n",
              " 'SalsaSpin',\n",
              " 'Shotput',\n",
              " 'SumoWrestling',\n",
              " 'TaiChi',\n",
              " 'ThrowDiscus',\n",
              " 'TrampolineJumping']"
            ]
          },
          "metadata": {},
          "execution_count": 26
        }
      ],
      "source": [
        "files_subset = select_subset_of_classes(files_for_class, classes_1, FILES_PER_CLASS)\n",
        "list(files_subset.keys())"
      ]
    },
    {
      "cell_type": "markdown",
      "metadata": {
        "id": "ALrlDS1lZx3E"
      },
      "source": [
        "Define helper functions that split the videos into training, validation, and test sets. The videos are downloaded from a URL with the zip file, and placed into their respective subdirectiories."
      ]
    },
    {
      "cell_type": "code",
      "execution_count": 27,
      "metadata": {
        "id": "AH9sWS_6nRz3"
      },
      "outputs": [],
      "source": [
        "def download_from_zip(zip_url, to_dir, file_names):\n",
        "  \"\"\" Download the contents of the zip file from the zip URL.\n",
        "\n",
        "    Args:\n",
        "      zip_url: A URL with a zip file containing data.\n",
        "      to_dir: A directory to download data to.\n",
        "      file_names: Names of files to download.\n",
        "  \"\"\"\n",
        "  with rz.RemoteZip(zip_url) as zip:\n",
        "    for fn in tqdm.tqdm(file_names):\n",
        "      class_name = get_class(fn)\n",
        "      zip.extract(fn, str(to_dir / class_name))\n",
        "      unzipped_file = to_dir / class_name / fn\n",
        "\n",
        "      fn = pathlib.Path(fn).parts[-1]\n",
        "      output_file = to_dir / class_name / fn\n",
        "      unzipped_file.rename(output_file)"
      ]
    },
    {
      "cell_type": "markdown",
      "metadata": {
        "id": "pejRTChA6mrp"
      },
      "source": [
        "The following function returns the remaining data that hasn't already been placed into a subset of data. It allows you to place that remaining data in the next specified subset of data."
      ]
    },
    {
      "cell_type": "code",
      "execution_count": 28,
      "metadata": {
        "id": "6ARYc-WLqqNF"
      },
      "outputs": [],
      "source": [
        "def split_class_lists(files_for_class, count):\n",
        "  \"\"\" Returns the list of files belonging to a subset of data as well as the remainder of\n",
        "    files that need to be downloaded.\n",
        "\n",
        "    Args:\n",
        "      files_for_class: Files belonging to a particular class of data.\n",
        "      count: Number of files to download.\n",
        "\n",
        "    Returns:\n",
        "      Files belonging to the subset of data and dictionary of the remainder of files that need to be downloaded.\n",
        "  \"\"\"\n",
        "  split_files = []\n",
        "  remainder = {}\n",
        "  for cls in files_for_class:\n",
        "    split_files.extend(files_for_class[cls][:count])\n",
        "    remainder[cls] = files_for_class[cls][count:]\n",
        "  return split_files, remainder"
      ]
    },
    {
      "cell_type": "markdown",
      "metadata": {
        "id": "LlEQ_I0TLd1X"
      },
      "source": [
        "The following `download_ucf_101_subset` function allows you to download a subset of the UCF101 dataset and split it into the training, validation, and test sets. You can specify the number of classes that you would like to use. The `splits` argument allows you to pass in a dictionary in which the key values are the name of subset (example: \"train\") and the number of videos you would like to have per class."
      ]
    },
    {
      "cell_type": "code",
      "execution_count": 29,
      "metadata": {
        "id": "IHH2Y1M06xoz"
      },
      "outputs": [],
      "source": [
        "def download_ucf_101_subset(zip_url, num_classes, splits, download_dir,classes_1):\n",
        "  \"\"\" Download a subset of the UCF101 dataset and split them into various parts, such as\n",
        "    training, validation, and test.\n",
        "\n",
        "    Args:\n",
        "      zip_url: A URL with a ZIP file with the data.\n",
        "      num_classes: Number of labels.\n",
        "      splits: Dictionary specifying the training, validation, test, etc. (key) division of data\n",
        "              (value is number of files per split).\n",
        "      download_dir: Directory to download data to.\n",
        "\n",
        "    Return:\n",
        "      Mapping of the directories containing the subsections of data.\n",
        "  \"\"\"\n",
        "  files = list_files_from_zip_url(zip_url)\n",
        "  for f in files:\n",
        "    path = os.path.normpath(f)\n",
        "    tokens = path.split(os.sep)\n",
        "    if len(tokens) <= 2:\n",
        "      files.remove(f) # Remove that item from the list if it does not have a filename\n",
        "\n",
        "  files_for_class = get_files_per_class(files)\n",
        "\n",
        "  # classes = list(files_for_class.keys())[:num_classes]\n",
        "  classes = classes_1\n",
        "\n",
        "  for cls in classes:\n",
        "    random.shuffle(files_for_class[cls])\n",
        "\n",
        "  # Only use the number of classes you want in the dictionary\n",
        "  files_for_class = {x: files_for_class[x] for x in classes}\n",
        "\n",
        "  dirs = {}\n",
        "  for split_name, split_count in splits.items():\n",
        "    print(split_name, \":\")\n",
        "    split_dir = download_dir / split_name\n",
        "    split_files, files_for_class = split_class_lists(files_for_class, split_count)\n",
        "    download_from_zip(zip_url, split_dir, split_files)\n",
        "    dirs[split_name] = split_dir\n",
        "\n",
        "  return dirs"
      ]
    },
    {
      "cell_type": "markdown",
      "source": [
        "The below URL contains a zip file with the UCF 101 dataset. Create a function that uses the `remotezip` library to examine the contents of the zip file in that URL:"
      ],
      "metadata": {
        "id": "rpB7E8pcn4Xi"
      }
    },
    {
      "cell_type": "code",
      "execution_count": 32,
      "metadata": {
        "id": "0c70mgMpgyM9"
      },
      "outputs": [],
      "source": [
        "URL = 'https://storage.googleapis.com/thumos14_files/UCF101_videos.zip'"
      ]
    },
    {
      "cell_type": "code",
      "execution_count": 33,
      "metadata": {
        "colab": {
          "base_uri": "https://localhost:8080/"
        },
        "id": "NuD-xU8Q66Vm",
        "outputId": "5f8ab06a-7549-4106-d53a-dcad0bd36f40",
        "collapsed": true
      },
      "outputs": [
        {
          "output_type": "stream",
          "name": "stdout",
          "text": [
            "\u001b[31mERROR: Could not find a version that satisfies the requirement zipfile (from versions: none)\u001b[0m\u001b[31m\n",
            "\u001b[0m\u001b[31mERROR: No matching distribution found for zipfile\u001b[0m\u001b[31m\n",
            "\u001b[0m"
          ]
        }
      ],
      "source": [
        "!pip install zipfile\n",
        "\n",
        "import os\n",
        "import pathlib\n",
        "import random\n",
        "import requests\n",
        "import zipfile\n",
        "# ... other imports ...\n",
        "\n",
        "def list_files_from_zip_url(zip_url):\n",
        "    \"\"\"Lists all files within a ZIP archive from a URL.\n",
        "\n",
        "    Args:\n",
        "      zip_url: The URL of the ZIP archive.\n",
        "\n",
        "    Returns:\n",
        "      A list of file paths within the ZIP archive.\n",
        "    \"\"\"\n",
        "\n",
        "    try:\n",
        "        response = requests.get(zip_url, stream=True)\n",
        "        response.raise_for_status()  # Raise an exception for bad responses\n",
        "\n",
        "        with zipfile.ZipFile(io.BytesIO(response.content)) as zip_ref:\n",
        "            return zip_ref.namelist()\n",
        "\n",
        "    except requests.exceptions.RequestException as e:\n",
        "        print(f\"Error downloading or opening ZIP file: {e}\")\n",
        "        return []\n",
        "\n",
        "    except zipfile.BadZipFile as e:\n",
        "        print(f\"Invalid ZIP file: {e}\")\n",
        "        return []"
      ]
    },
    {
      "cell_type": "markdown",
      "metadata": {
        "id": "MBMRm9Ub3Zrk"
      },
      "source": [
        "After downloading the data, you should now have a copy of a subset of the UCF101 dataset. Run the following code to print the total number of videos you have amongst all your subsets of data."
      ]
    },
    {
      "cell_type": "code",
      "execution_count": 34,
      "metadata": {
        "colab": {
          "base_uri": "https://localhost:8080/"
        },
        "id": "zupvOLYP4D4q",
        "outputId": "c3412450-1133-473d-f3fa-4a8df46be331"
      },
      "outputs": [
        {
          "output_type": "stream",
          "name": "stdout",
          "text": [
            "Total videos: 0\n"
          ]
        }
      ],
      "source": [
        "video_count_train = len(list(download_dir.glob('train/*/*.avi')))\n",
        "video_count_val = len(list(download_dir.glob('val/*/*.avi')))\n",
        "video_count_test = len(list(download_dir.glob('test/*/*.avi')))\n",
        "video_total = video_count_train + video_count_val + video_count_test\n",
        "print(f\"Total videos: {video_total}\")"
      ]
    },
    {
      "cell_type": "code",
      "source": [
        "import sys\n",
        "print(sys.executable)"
      ],
      "metadata": {
        "id": "hlwjiijIu8rU",
        "outputId": "c2eaec10-cca9-44e8-d145-d8d4ce08564d",
        "colab": {
          "base_uri": "https://localhost:8080/"
        }
      },
      "execution_count": 51,
      "outputs": [
        {
          "output_type": "stream",
          "name": "stdout",
          "text": [
            "/usr/bin/python3\n"
          ]
        }
      ]
    },
    {
      "cell_type": "markdown",
      "metadata": {
        "id": "aYYShfhMx9DW"
      },
      "source": [
        "## Create the training and test datasets"
      ]
    },
    {
      "cell_type": "markdown",
      "metadata": {
        "id": "d7stgmuBCGQT"
      },
      "source": [
        "The labels generated here represent the encoding of the classes. For instance, 'ApplyEyeMakeup' is mapped to the integer Take a look at the labels of the training data to ensure that the dataset has been sufficiently shuffled."
      ]
    },
    {
      "cell_type": "code",
      "execution_count": 66,
      "metadata": {
        "id": "k9L2-toXCOQq"
      },
      "outputs": [],
      "source": [
        "def create_video_dataset(directory, labels='inferred', label_mode='int',\n",
        "                         image_size=(IMG_HEIGHT, IMG_WIDTH), interpolation='nearest',\n",
        "                         batch_size=BATCH_SIZE, shuffle=True):\n",
        "    \"\"\"\n",
        "    Creates a TensorFlow dataset for video data.\n",
        "\n",
        "    This function assumes videos are stored in subdirectories, where each\n",
        "    subdirectory name represents a class label.\n",
        "\n",
        "    Args:\n",
        "        directory: The path to the directory containing video files.\n",
        "        labels: Either \"inferred\" (labels are inferred from subdirectory names),\n",
        "            or a list/tuple of integer labels for each example.\n",
        "        label_mode: One of \"int\", \"categorical\", \"binary\", or None.\n",
        "        image_size: The desired size of frames extracted from videos.\n",
        "        interpolation: Interpolation method for resizing frames.\n",
        "        batch_size: The batch size for the dataset.\n",
        "        shuffle: Whether to shuffle the dataset.\n",
        "\n",
        "    Returns:\n",
        "        A TensorFlow dataset containing video data.\n",
        "    \"\"\"\n",
        "\n",
        "    def video_to_frames(video_path):\n",
        "        \"\"\"Extracts frames from a video file and returns a tensor.\"\"\"\n",
        "        # Load the video\n",
        "        vr = decord.VideoReader(video_path.numpy().decode('utf-8'))\n",
        "\n",
        "        # Extract frames (adjust frame selection as needed)\n",
        "        # Here we extract the first frame\n",
        "        frame = vr[0].asnumpy()\n",
        "\n",
        "        # Preprocess the frame (e.g., resize, normalize)\n",
        "        frame = tf.image.resize(frame, image_size, method=interpolation)\n",
        "        frame = frame / 255.0  # Normalize to [0, 1]\n",
        "\n",
        "        return frame\n",
        "\n",
        "    # Create a dataset of video file paths\n",
        "    file_paths = []\n",
        "    labels_list = []  # List to store labels\n",
        "    for root, _, files in os.walk(directory):\n",
        "        for file in files:\n",
        "            file_paths.append(os.path.join(root, file))\n",
        "            # Extract label from directory name\n",
        "            labels_list.append(os.path.basename(os.path.dirname(os.path.join(root, file))))\n",
        "\n",
        "    dataset = tf.data.Dataset.from_tensor_slices((file_paths, labels_list))  # Include labels\n",
        "\n",
        "    # Map the video_to_frames function to extract frames and keep labels\n",
        "    dataset = dataset.map(\n",
        "        lambda x, y: (tf.py_function(video_to_frames, [x], tf.float32), y),  # Keep label 'y'\n",
        "        num_parallel_calls=tf.data.AUTOTUNE\n",
        "    )\n",
        "\n",
        "    # Batch and shuffle\n",
        "    dataset = dataset.batch(batch_size)\n",
        "    if shuffle:\n",
        "        dataset = dataset.shuffle(buffer_size=BUFFER_SIZE)\n",
        "\n",
        "    return dataset"
      ]
    },
    {
      "cell_type": "markdown",
      "metadata": {
        "id": "YZ3qwZnpfy9c"
      },
      "source": [
        "Take a look at the shape of the data."
      ]
    },
    {
      "cell_type": "code",
      "execution_count": 70,
      "metadata": {
        "colab": {
          "base_uri": "https://localhost:8080/"
        },
        "id": "b6MqP4m2fyQT",
        "outputId": "24f6e3d1-93e6-4ebb-c992-1af430d41606"
      },
      "outputs": [
        {
          "output_type": "stream",
          "name": "stdout",
          "text": [
            "Dataset is empty or an error occurred.\n"
          ]
        }
      ],
      "source": [
        "import tensorflow as tf\n",
        "import os\n",
        "\n",
        "# Assuming you have defined IMG_HEIGHT, IMG_WIDTH, BATCH_SIZE, and create_video_dataset\n",
        "\n",
        "# Define BUFFER_SIZE\n",
        "BUFFER_SIZE = 1000  # Choose an appropriate buffer size for your dataset\n",
        "\n",
        "# Create your dataset\n",
        "train_dataset = create_video_dataset('UCF101_subset/train')\n",
        "\n",
        "# Iterate over the dataset to get the frames and labels\n",
        "# Initialize frames and labels outside the loop\n",
        "frames = None\n",
        "labels = None\n",
        "\n",
        "for batch_frames, batch_labels in train_dataset.take(1):  # Take only 1 batch for demonstration\n",
        "    frames = batch_frames  # Assign the values to the outer scope variables\n",
        "    labels = batch_labels\n",
        "\n",
        "# Now you can print the shapes outside the loop\n",
        "if frames is not None and labels is not None:  # Check if frames and labels were assigned\n",
        "    print(f\"Shape: {frames.shape}\")\n",
        "    print(f\"Label: {labels.shape}\")\n",
        "else:\n",
        "    print(\"Dataset is empty or an error occurred.\")"
      ]
    },
    {
      "cell_type": "code",
      "source": [
        "!pip install decord ipywidgets\n",
        "\n",
        "import tensorflow as tf\n",
        "import os\n",
        "import decord\n",
        "import ipywidgets as widgets\n",
        "\n",
        "# Define variables\n",
        "IMG_HEIGHT = 128  # Adjust as needed\n",
        "IMG_WIDTH = 128  # Adjust as needed\n",
        "BATCH_SIZE = 32  # Adjust as needed\n",
        "\n",
        "# Define BUFFER_SIZE\n",
        "BUFFER_SIZE = 1000  # Choose an appropriate buffer size for your dataset\n",
        "\n",
        "# Include create_video_dataset function here\n",
        "def create_video_dataset(directory, labels='inferred', label_mode='int',\n",
        "                         image_size=(IMG_HEIGHT, IMG_WIDTH), interpolation='nearest',\n",
        "                         batch_size=BATCH_SIZE, shuffle=True):\n",
        "    \"\"\"\n",
        "    Creates a TensorFlow dataset for video data.\n",
        "\n",
        "    This function assumes videos are stored in subdirectories, where each\n",
        "    subdirectory name represents a class label.\n",
        "\n",
        "    Args:\n",
        "        directory: The path to the directory containing video files.\n",
        "        labels: Either \"inferred\" (labels are inferred from subdirectory names),\n",
        "            or a list/tuple of integer labels for each example.\n",
        "        label_mode: One of \"int\", \"categorical\", \"binary\", or None.\n",
        "        image_size: The desired size of frames extracted from videos.\n",
        "        interpolation: Interpolation method for resizing frames.\n",
        "        batch_size: The batch size for the dataset.\n",
        "        shuffle: Whether to shuffle the dataset.\n",
        "\n",
        "    Returns:\n",
        "        A TensorFlow dataset containing video data.\n",
        "    \"\"\"\n",
        "\n",
        "    def video_to_frames(video_path):\n",
        "        \"\"\"Extracts frames from a video file and returns a tensor.\"\"\"\n",
        "        # Load the video\n",
        "        vr = decord.VideoReader(video_path.numpy().decode('utf-8'))\n",
        "\n",
        "        # Extract frames (adjust frame selection as needed)\n",
        "        # Here we extract the first frame\n",
        "        frame = vr[0].asnumpy()\n",
        "\n",
        "        # Preprocess the frame (e.g., resize, normalize)\n",
        "        frame = tf.image.resize(frame, image_size, method=interpolation)\n",
        "        frame = frame / 255.0  # Normalize to [0, 1]\n",
        "\n",
        "        return frame\n",
        "\n",
        "    # Create a dataset of video file paths\n",
        "    file_paths = []\n",
        "    labels_list = []  # List to store labels\n",
        "    for root, _, files in os.walk(directory):\n",
        "        for file in files:\n",
        "            file_paths.append(os.path.join(root, file))\n",
        "            # Extract label from directory name\n",
        "            labels_list.append(os.path.basename(os.path.dirname(os.path.join(root, file))))\n",
        "\n",
        "    # Check if any video files were found\n",
        "    if not file_paths:\n",
        "        print(f\"Warning: No video files found in directory: {directory}\")\n",
        "        return tf.data.Dataset.from_tensor_slices(([], [])).batch(batch_size) # Return empty dataset\n",
        "\n",
        "    dataset = tf.data.Dataset.from_tensor_slices((file_paths, labels_list))  # Include labels\n",
        "\n",
        "    # Map the video_to_frames function to extract frames and keep labels\n",
        "    dataset = dataset.map(\n",
        "        lambda x, y: (tf.py_function(video_to_frames, [x], tf.float32), y),  # Keep label 'y'\n",
        "        num_parallel_calls=tf.data.AUTOTUNE\n",
        "    )\n",
        "\n",
        "    # Batch and shuffle\n",
        "\n",
        "!pip install decord ipywidgets\n",
        "\n",
        "import tensorflow as tf\n",
        "import os\n",
        "import decord\n",
        "import ipywidgets as widgets\n",
        "\n",
        "# Define variables\n",
        "IMG_HEIGHT = 128  # Adjust as needed\n",
        "IMG_WIDTH = 128  # Adjust as needed\n",
        "BATCH_SIZE = 32  # Adjust as needed\n",
        "\n",
        "# Define BUFFER_SIZE\n",
        "BUFFER_SIZE = 1000  # Choose an appropriate buffer size for your dataset\n",
        "\n",
        "# Include create_video_dataset function here\n",
        "def create_video_dataset(directory, labels='inferred', label_mode='int',\n",
        "                         image_size=(IMG_HEIGHT, IMG_WIDTH), interpolation='nearest',\n",
        "                         batch_size=BATCH_SIZE, shuffle=True):\n",
        "    \"\"\"\n",
        "    Creates a TensorFlow dataset for video data.\n",
        "\n",
        "    This function assumes videos are stored in subdirectories, where each\n",
        "    subdirectory name represents a class label.\n",
        "\n",
        "    Args:\n",
        "        directory: The path to the directory containing video files.\n",
        "        labels: Either \"inferred\" (labels are inferred from subdirectory names),\n",
        "            or a list/tuple of integer labels for each example.\n",
        "        label_mode: One of \"int\", \"categorical\", \"binary\", or None.\n",
        "        image_size: The desired size of frames extracted from videos.\n",
        "        interpolation: Interpolation method for resizing frames.\n",
        "        batch_size: The batch size for the dataset.\n",
        "        shuffle: Whether to shuffle the dataset.\n",
        "\n",
        "    Returns:\n",
        "        A TensorFlow dataset containing video data.\n",
        "    \"\"\"\n",
        "\n",
        "    def video_to_frames(video_path):\n",
        "        \"\"\"Extracts frames from a video file and returns a tensor.\"\"\"\n",
        "        # Load the video\n",
        "        vr = decord.VideoReader(video_path.numpy().decode('utf-8'))\n",
        "\n",
        "        # Extract frames (adjust frame selection as needed)\n",
        "        # Here we extract the first frame\n",
        "        frame = vr[0].asnumpy()\n",
        "\n",
        "        # Preprocess the frame (e.g., resize, normalize)\n",
        "        frame = tf.image.resize(frame, image_size, method=interpolation)\n",
        "        frame = frame / 255.0  # Normalize to [0, 1]\n",
        "\n",
        "        return frame\n",
        "\n",
        "    # Create a dataset of video file paths\n",
        "    file_paths = []\n",
        "    labels_list = []  # List to store labels\n",
        "    for root, _, files in os.walk(directory):\n",
        "        for file in files:\n",
        "            file_paths.append(os.path.join(root, file))\n",
        "            # Extract label from directory name\n",
        "            labels_list.append(os.path.basename(os.path.dirname(os.path.join(root, file))))\n",
        "\n",
        "    # Check if any video files were found\n",
        "    if not file_paths:\n",
        "        print(f\"Warning: No video files found in directory: {directory}\")\n",
        "        return tf.data.Dataset.from_tensor_slices(([], [])).batch(batch_size) # Return empty dataset\n",
        "\n",
        "    dataset = tf.data.Dataset.from_tensor_slices((file_paths, labels_list))  # Include labels\n",
        "\n",
        "    # Map the video_to_frames function to extract frames and keep labels\n",
        "    dataset = dataset.map(\n",
        "        lambda x, y: (tf.py_function(video_to_frames, [x], tf.float32), y),  # Keep label 'y'\n",
        "        num_parallel_calls=tf.data.AUTOTUNE\n",
        "    )\n",
        "\n",
        "    # Batch and shuffle\n",
        "    dataset = dataset.batch(batch_size)\n",
        "    if shuffle:\n",
        "        dataset = dataset.shuffle(buffer_size=BUFFER_SIZE)\n",
        "\n",
        "    return dataset\n"
      ],
      "metadata": {
        "colab": {
          "base_uri": "https://localhost:8080/"
        },
        "id": "A9L7BLA-s3R6",
        "outputId": "efd04561-0c2c-42f1-e7d3-d0bdbc4b465d"
      },
      "execution_count": 75,
      "outputs": [
        {
          "output_type": "stream",
          "name": "stdout",
          "text": [
            "Requirement already satisfied: decord in /usr/local/lib/python3.10/dist-packages (0.6.0)\n",
            "Requirement already satisfied: ipywidgets in /usr/local/lib/python3.10/dist-packages (7.7.1)\n",
            "Requirement already satisfied: numpy>=1.14.0 in /usr/local/lib/python3.10/dist-packages (from decord) (1.26.4)\n",
            "Requirement already satisfied: ipykernel>=4.5.1 in /usr/local/lib/python3.10/dist-packages (from ipywidgets) (5.5.6)\n",
            "Requirement already satisfied: ipython-genutils~=0.2.0 in /usr/local/lib/python3.10/dist-packages (from ipywidgets) (0.2.0)\n",
            "Requirement already satisfied: traitlets>=4.3.1 in /usr/local/lib/python3.10/dist-packages (from ipywidgets) (5.7.1)\n",
            "Requirement already satisfied: widgetsnbextension~=3.6.0 in /usr/local/lib/python3.10/dist-packages (from ipywidgets) (3.6.10)\n",
            "Requirement already satisfied: ipython>=4.0.0 in /usr/local/lib/python3.10/dist-packages (from ipywidgets) (7.34.0)\n",
            "Requirement already satisfied: jupyterlab-widgets>=1.0.0 in /usr/local/lib/python3.10/dist-packages (from ipywidgets) (3.0.13)\n",
            "Requirement already satisfied: jupyter-client in /usr/local/lib/python3.10/dist-packages (from ipykernel>=4.5.1->ipywidgets) (6.1.12)\n",
            "Requirement already satisfied: tornado>=4.2 in /usr/local/lib/python3.10/dist-packages (from ipykernel>=4.5.1->ipywidgets) (6.3.3)\n",
            "Requirement already satisfied: setuptools>=18.5 in /usr/local/lib/python3.10/dist-packages (from ipython>=4.0.0->ipywidgets) (75.1.0)\n",
            "Requirement already satisfied: jedi>=0.16 in /usr/local/lib/python3.10/dist-packages (from ipython>=4.0.0->ipywidgets) (0.19.2)\n",
            "Requirement already satisfied: decorator in /usr/local/lib/python3.10/dist-packages (from ipython>=4.0.0->ipywidgets) (4.4.2)\n",
            "Requirement already satisfied: pickleshare in /usr/local/lib/python3.10/dist-packages (from ipython>=4.0.0->ipywidgets) (0.7.5)\n",
            "Requirement already satisfied: prompt-toolkit!=3.0.0,!=3.0.1,<3.1.0,>=2.0.0 in /usr/local/lib/python3.10/dist-packages (from ipython>=4.0.0->ipywidgets) (3.0.48)\n",
            "Requirement already satisfied: pygments in /usr/local/lib/python3.10/dist-packages (from ipython>=4.0.0->ipywidgets) (2.18.0)\n",
            "Requirement already satisfied: backcall in /usr/local/lib/python3.10/dist-packages (from ipython>=4.0.0->ipywidgets) (0.2.0)\n",
            "Requirement already satisfied: matplotlib-inline in /usr/local/lib/python3.10/dist-packages (from ipython>=4.0.0->ipywidgets) (0.1.7)\n",
            "Requirement already satisfied: pexpect>4.3 in /usr/local/lib/python3.10/dist-packages (from ipython>=4.0.0->ipywidgets) (4.9.0)\n",
            "Requirement already satisfied: notebook>=4.4.1 in /usr/local/lib/python3.10/dist-packages (from widgetsnbextension~=3.6.0->ipywidgets) (6.5.5)\n",
            "Requirement already satisfied: parso<0.9.0,>=0.8.4 in /usr/local/lib/python3.10/dist-packages (from jedi>=0.16->ipython>=4.0.0->ipywidgets) (0.8.4)\n",
            "Requirement already satisfied: jinja2 in /usr/local/lib/python3.10/dist-packages (from notebook>=4.4.1->widgetsnbextension~=3.6.0->ipywidgets) (3.1.4)\n",
            "Requirement already satisfied: pyzmq<25,>=17 in /usr/local/lib/python3.10/dist-packages (from notebook>=4.4.1->widgetsnbextension~=3.6.0->ipywidgets) (24.0.1)\n",
            "Requirement already satisfied: argon2-cffi in /usr/local/lib/python3.10/dist-packages (from notebook>=4.4.1->widgetsnbextension~=3.6.0->ipywidgets) (23.1.0)\n",
            "Requirement already satisfied: jupyter-core>=4.6.1 in /usr/local/lib/python3.10/dist-packages (from notebook>=4.4.1->widgetsnbextension~=3.6.0->ipywidgets) (5.7.2)\n",
            "Requirement already satisfied: nbformat in /usr/local/lib/python3.10/dist-packages (from notebook>=4.4.1->widgetsnbextension~=3.6.0->ipywidgets) (5.10.4)\n",
            "Requirement already satisfied: nbconvert>=5 in /usr/local/lib/python3.10/dist-packages (from notebook>=4.4.1->widgetsnbextension~=3.6.0->ipywidgets) (7.16.4)\n",
            "Requirement already satisfied: nest-asyncio>=1.5 in /usr/local/lib/python3.10/dist-packages (from notebook>=4.4.1->widgetsnbextension~=3.6.0->ipywidgets) (1.6.0)\n",
            "Requirement already satisfied: Send2Trash>=1.8.0 in /usr/local/lib/python3.10/dist-packages (from notebook>=4.4.1->widgetsnbextension~=3.6.0->ipywidgets) (1.8.3)\n",
            "Requirement already satisfied: terminado>=0.8.3 in /usr/local/lib/python3.10/dist-packages (from notebook>=4.4.1->widgetsnbextension~=3.6.0->ipywidgets) (0.18.1)\n",
            "Requirement already satisfied: prometheus-client in /usr/local/lib/python3.10/dist-packages (from notebook>=4.4.1->widgetsnbextension~=3.6.0->ipywidgets) (0.21.0)\n",
            "Requirement already satisfied: nbclassic>=0.4.7 in /usr/local/lib/python3.10/dist-packages (from notebook>=4.4.1->widgetsnbextension~=3.6.0->ipywidgets) (1.1.0)\n",
            "Requirement already satisfied: python-dateutil>=2.1 in /usr/local/lib/python3.10/dist-packages (from jupyter-client->ipykernel>=4.5.1->ipywidgets) (2.8.2)\n",
            "Requirement already satisfied: ptyprocess>=0.5 in /usr/local/lib/python3.10/dist-packages (from pexpect>4.3->ipython>=4.0.0->ipywidgets) (0.7.0)\n",
            "Requirement already satisfied: wcwidth in /usr/local/lib/python3.10/dist-packages (from prompt-toolkit!=3.0.0,!=3.0.1,<3.1.0,>=2.0.0->ipython>=4.0.0->ipywidgets) (0.2.13)\n",
            "Requirement already satisfied: platformdirs>=2.5 in /usr/local/lib/python3.10/dist-packages (from jupyter-core>=4.6.1->notebook>=4.4.1->widgetsnbextension~=3.6.0->ipywidgets) (4.3.6)\n",
            "Requirement already satisfied: notebook-shim>=0.2.3 in /usr/local/lib/python3.10/dist-packages (from nbclassic>=0.4.7->notebook>=4.4.1->widgetsnbextension~=3.6.0->ipywidgets) (0.2.4)\n",
            "Requirement already satisfied: beautifulsoup4 in /usr/local/lib/python3.10/dist-packages (from nbconvert>=5->notebook>=4.4.1->widgetsnbextension~=3.6.0->ipywidgets) (4.12.3)\n",
            "Requirement already satisfied: bleach!=5.0.0 in /usr/local/lib/python3.10/dist-packages (from nbconvert>=5->notebook>=4.4.1->widgetsnbextension~=3.6.0->ipywidgets) (6.2.0)\n",
            "Requirement already satisfied: defusedxml in /usr/local/lib/python3.10/dist-packages (from nbconvert>=5->notebook>=4.4.1->widgetsnbextension~=3.6.0->ipywidgets) (0.7.1)\n",
            "Requirement already satisfied: jupyterlab-pygments in /usr/local/lib/python3.10/dist-packages (from nbconvert>=5->notebook>=4.4.1->widgetsnbextension~=3.6.0->ipywidgets) (0.3.0)\n",
            "Requirement already satisfied: markupsafe>=2.0 in /usr/local/lib/python3.10/dist-packages (from nbconvert>=5->notebook>=4.4.1->widgetsnbextension~=3.6.0->ipywidgets) (3.0.2)\n",
            "Requirement already satisfied: mistune<4,>=2.0.3 in /usr/local/lib/python3.10/dist-packages (from nbconvert>=5->notebook>=4.4.1->widgetsnbextension~=3.6.0->ipywidgets) (3.0.2)\n",
            "Requirement already satisfied: nbclient>=0.5.0 in /usr/local/lib/python3.10/dist-packages (from nbconvert>=5->notebook>=4.4.1->widgetsnbextension~=3.6.0->ipywidgets) (0.10.0)\n",
            "Requirement already satisfied: packaging in /usr/local/lib/python3.10/dist-packages (from nbconvert>=5->notebook>=4.4.1->widgetsnbextension~=3.6.0->ipywidgets) (24.2)\n",
            "Requirement already satisfied: pandocfilters>=1.4.1 in /usr/local/lib/python3.10/dist-packages (from nbconvert>=5->notebook>=4.4.1->widgetsnbextension~=3.6.0->ipywidgets) (1.5.1)\n",
            "Requirement already satisfied: tinycss2 in /usr/local/lib/python3.10/dist-packages (from nbconvert>=5->notebook>=4.4.1->widgetsnbextension~=3.6.0->ipywidgets) (1.4.0)\n",
            "Requirement already satisfied: fastjsonschema>=2.15 in /usr/local/lib/python3.10/dist-packages (from nbformat->notebook>=4.4.1->widgetsnbextension~=3.6.0->ipywidgets) (2.20.0)\n",
            "Requirement already satisfied: jsonschema>=2.6 in /usr/local/lib/python3.10/dist-packages (from nbformat->notebook>=4.4.1->widgetsnbextension~=3.6.0->ipywidgets) (4.23.0)\n",
            "Requirement already satisfied: six>=1.5 in /usr/local/lib/python3.10/dist-packages (from python-dateutil>=2.1->jupyter-client->ipykernel>=4.5.1->ipywidgets) (1.16.0)\n",
            "Requirement already satisfied: argon2-cffi-bindings in /usr/local/lib/python3.10/dist-packages (from argon2-cffi->notebook>=4.4.1->widgetsnbextension~=3.6.0->ipywidgets) (21.2.0)\n",
            "Requirement already satisfied: webencodings in /usr/local/lib/python3.10/dist-packages (from bleach!=5.0.0->nbconvert>=5->notebook>=4.4.1->widgetsnbextension~=3.6.0->ipywidgets) (0.5.1)\n",
            "Requirement already satisfied: attrs>=22.2.0 in /usr/local/lib/python3.10/dist-packages (from jsonschema>=2.6->nbformat->notebook>=4.4.1->widgetsnbextension~=3.6.0->ipywidgets) (24.2.0)\n",
            "Requirement already satisfied: jsonschema-specifications>=2023.03.6 in /usr/local/lib/python3.10/dist-packages (from jsonschema>=2.6->nbformat->notebook>=4.4.1->widgetsnbextension~=3.6.0->ipywidgets) (2024.10.1)\n",
            "Requirement already satisfied: referencing>=0.28.4 in /usr/local/lib/python3.10/dist-packages (from jsonschema>=2.6->nbformat->notebook>=4.4.1->widgetsnbextension~=3.6.0->ipywidgets) (0.35.1)\n",
            "Requirement already satisfied: rpds-py>=0.7.1 in /usr/local/lib/python3.10/dist-packages (from jsonschema>=2.6->nbformat->notebook>=4.4.1->widgetsnbextension~=3.6.0->ipywidgets) (0.21.0)\n",
            "Requirement already satisfied: jupyter-server<3,>=1.8 in /usr/local/lib/python3.10/dist-packages (from notebook-shim>=0.2.3->nbclassic>=0.4.7->notebook>=4.4.1->widgetsnbextension~=3.6.0->ipywidgets) (1.24.0)\n",
            "Requirement already satisfied: cffi>=1.0.1 in /usr/local/lib/python3.10/dist-packages (from argon2-cffi-bindings->argon2-cffi->notebook>=4.4.1->widgetsnbextension~=3.6.0->ipywidgets) (1.17.1)\n",
            "Requirement already satisfied: soupsieve>1.2 in /usr/local/lib/python3.10/dist-packages (from beautifulsoup4->nbconvert>=5->notebook>=4.4.1->widgetsnbextension~=3.6.0->ipywidgets) (2.6)\n",
            "Requirement already satisfied: pycparser in /usr/local/lib/python3.10/dist-packages (from cffi>=1.0.1->argon2-cffi-bindings->argon2-cffi->notebook>=4.4.1->widgetsnbextension~=3.6.0->ipywidgets) (2.22)\n",
            "Requirement already satisfied: anyio<4,>=3.1.0 in /usr/local/lib/python3.10/dist-packages (from jupyter-server<3,>=1.8->notebook-shim>=0.2.3->nbclassic>=0.4.7->notebook>=4.4.1->widgetsnbextension~=3.6.0->ipywidgets) (3.7.1)\n",
            "Requirement already satisfied: websocket-client in /usr/local/lib/python3.10/dist-packages (from jupyter-server<3,>=1.8->notebook-shim>=0.2.3->nbclassic>=0.4.7->notebook>=4.4.1->widgetsnbextension~=3.6.0->ipywidgets) (1.8.0)\n",
            "Requirement already satisfied: idna>=2.8 in /usr/local/lib/python3.10/dist-packages (from anyio<4,>=3.1.0->jupyter-server<3,>=1.8->notebook-shim>=0.2.3->nbclassic>=0.4.7->notebook>=4.4.1->widgetsnbextension~=3.6.0->ipywidgets) (3.10)\n",
            "Requirement already satisfied: sniffio>=1.1 in /usr/local/lib/python3.10/dist-packages (from anyio<4,>=3.1.0->jupyter-server<3,>=1.8->notebook-shim>=0.2.3->nbclassic>=0.4.7->notebook>=4.4.1->widgetsnbextension~=3.6.0->ipywidgets) (1.3.1)\n",
            "Requirement already satisfied: exceptiongroup in /usr/local/lib/python3.10/dist-packages (from anyio<4,>=3.1.0->jupyter-server<3,>=1.8->notebook-shim>=0.2.3->nbclassic>=0.4.7->notebook>=4.4.1->widgetsnbextension~=3.6.0->ipywidgets) (1.2.2)\n",
            "Requirement already satisfied: decord in /usr/local/lib/python3.10/dist-packages (0.6.0)\n",
            "Requirement already satisfied: ipywidgets in /usr/local/lib/python3.10/dist-packages (7.7.1)\n",
            "Requirement already satisfied: numpy>=1.14.0 in /usr/local/lib/python3.10/dist-packages (from decord) (1.26.4)\n",
            "Requirement already satisfied: ipykernel>=4.5.1 in /usr/local/lib/python3.10/dist-packages (from ipywidgets) (5.5.6)\n",
            "Requirement already satisfied: ipython-genutils~=0.2.0 in /usr/local/lib/python3.10/dist-packages (from ipywidgets) (0.2.0)\n",
            "Requirement already satisfied: traitlets>=4.3.1 in /usr/local/lib/python3.10/dist-packages (from ipywidgets) (5.7.1)\n",
            "Requirement already satisfied: widgetsnbextension~=3.6.0 in /usr/local/lib/python3.10/dist-packages (from ipywidgets) (3.6.10)\n",
            "Requirement already satisfied: ipython>=4.0.0 in /usr/local/lib/python3.10/dist-packages (from ipywidgets) (7.34.0)\n",
            "Requirement already satisfied: jupyterlab-widgets>=1.0.0 in /usr/local/lib/python3.10/dist-packages (from ipywidgets) (3.0.13)\n",
            "Requirement already satisfied: jupyter-client in /usr/local/lib/python3.10/dist-packages (from ipykernel>=4.5.1->ipywidgets) (6.1.12)\n",
            "Requirement already satisfied: tornado>=4.2 in /usr/local/lib/python3.10/dist-packages (from ipykernel>=4.5.1->ipywidgets) (6.3.3)\n",
            "Requirement already satisfied: setuptools>=18.5 in /usr/local/lib/python3.10/dist-packages (from ipython>=4.0.0->ipywidgets) (75.1.0)\n",
            "Requirement already satisfied: jedi>=0.16 in /usr/local/lib/python3.10/dist-packages (from ipython>=4.0.0->ipywidgets) (0.19.2)\n",
            "Requirement already satisfied: decorator in /usr/local/lib/python3.10/dist-packages (from ipython>=4.0.0->ipywidgets) (4.4.2)\n",
            "Requirement already satisfied: pickleshare in /usr/local/lib/python3.10/dist-packages (from ipython>=4.0.0->ipywidgets) (0.7.5)\n",
            "Requirement already satisfied: prompt-toolkit!=3.0.0,!=3.0.1,<3.1.0,>=2.0.0 in /usr/local/lib/python3.10/dist-packages (from ipython>=4.0.0->ipywidgets) (3.0.48)\n",
            "Requirement already satisfied: pygments in /usr/local/lib/python3.10/dist-packages (from ipython>=4.0.0->ipywidgets) (2.18.0)\n",
            "Requirement already satisfied: backcall in /usr/local/lib/python3.10/dist-packages (from ipython>=4.0.0->ipywidgets) (0.2.0)\n",
            "Requirement already satisfied: matplotlib-inline in /usr/local/lib/python3.10/dist-packages (from ipython>=4.0.0->ipywidgets) (0.1.7)\n",
            "Requirement already satisfied: pexpect>4.3 in /usr/local/lib/python3.10/dist-packages (from ipython>=4.0.0->ipywidgets) (4.9.0)\n",
            "Requirement already satisfied: notebook>=4.4.1 in /usr/local/lib/python3.10/dist-packages (from widgetsnbextension~=3.6.0->ipywidgets) (6.5.5)\n",
            "Requirement already satisfied: parso<0.9.0,>=0.8.4 in /usr/local/lib/python3.10/dist-packages (from jedi>=0.16->ipython>=4.0.0->ipywidgets) (0.8.4)\n",
            "Requirement already satisfied: jinja2 in /usr/local/lib/python3.10/dist-packages (from notebook>=4.4.1->widgetsnbextension~=3.6.0->ipywidgets) (3.1.4)\n",
            "Requirement already satisfied: pyzmq<25,>=17 in /usr/local/lib/python3.10/dist-packages (from notebook>=4.4.1->widgetsnbextension~=3.6.0->ipywidgets) (24.0.1)\n",
            "Requirement already satisfied: argon2-cffi in /usr/local/lib/python3.10/dist-packages (from notebook>=4.4.1->widgetsnbextension~=3.6.0->ipywidgets) (23.1.0)\n",
            "Requirement already satisfied: jupyter-core>=4.6.1 in /usr/local/lib/python3.10/dist-packages (from notebook>=4.4.1->widgetsnbextension~=3.6.0->ipywidgets) (5.7.2)\n",
            "Requirement already satisfied: nbformat in /usr/local/lib/python3.10/dist-packages (from notebook>=4.4.1->widgetsnbextension~=3.6.0->ipywidgets) (5.10.4)\n",
            "Requirement already satisfied: nbconvert>=5 in /usr/local/lib/python3.10/dist-packages (from notebook>=4.4.1->widgetsnbextension~=3.6.0->ipywidgets) (7.16.4)\n",
            "Requirement already satisfied: nest-asyncio>=1.5 in /usr/local/lib/python3.10/dist-packages (from notebook>=4.4.1->widgetsnbextension~=3.6.0->ipywidgets) (1.6.0)\n",
            "Requirement already satisfied: Send2Trash>=1.8.0 in /usr/local/lib/python3.10/dist-packages (from notebook>=4.4.1->widgetsnbextension~=3.6.0->ipywidgets) (1.8.3)\n",
            "Requirement already satisfied: terminado>=0.8.3 in /usr/local/lib/python3.10/dist-packages (from notebook>=4.4.1->widgetsnbextension~=3.6.0->ipywidgets) (0.18.1)\n",
            "Requirement already satisfied: prometheus-client in /usr/local/lib/python3.10/dist-packages (from notebook>=4.4.1->widgetsnbextension~=3.6.0->ipywidgets) (0.21.0)\n",
            "Requirement already satisfied: nbclassic>=0.4.7 in /usr/local/lib/python3.10/dist-packages (from notebook>=4.4.1->widgetsnbextension~=3.6.0->ipywidgets) (1.1.0)\n",
            "Requirement already satisfied: python-dateutil>=2.1 in /usr/local/lib/python3.10/dist-packages (from jupyter-client->ipykernel>=4.5.1->ipywidgets) (2.8.2)\n",
            "Requirement already satisfied: ptyprocess>=0.5 in /usr/local/lib/python3.10/dist-packages (from pexpect>4.3->ipython>=4.0.0->ipywidgets) (0.7.0)\n",
            "Requirement already satisfied: wcwidth in /usr/local/lib/python3.10/dist-packages (from prompt-toolkit!=3.0.0,!=3.0.1,<3.1.0,>=2.0.0->ipython>=4.0.0->ipywidgets) (0.2.13)\n",
            "Requirement already satisfied: platformdirs>=2.5 in /usr/local/lib/python3.10/dist-packages (from jupyter-core>=4.6.1->notebook>=4.4.1->widgetsnbextension~=3.6.0->ipywidgets) (4.3.6)\n",
            "Requirement already satisfied: notebook-shim>=0.2.3 in /usr/local/lib/python3.10/dist-packages (from nbclassic>=0.4.7->notebook>=4.4.1->widgetsnbextension~=3.6.0->ipywidgets) (0.2.4)\n",
            "Requirement already satisfied: beautifulsoup4 in /usr/local/lib/python3.10/dist-packages (from nbconvert>=5->notebook>=4.4.1->widgetsnbextension~=3.6.0->ipywidgets) (4.12.3)\n",
            "Requirement already satisfied: bleach!=5.0.0 in /usr/local/lib/python3.10/dist-packages (from nbconvert>=5->notebook>=4.4.1->widgetsnbextension~=3.6.0->ipywidgets) (6.2.0)\n",
            "Requirement already satisfied: defusedxml in /usr/local/lib/python3.10/dist-packages (from nbconvert>=5->notebook>=4.4.1->widgetsnbextension~=3.6.0->ipywidgets) (0.7.1)\n",
            "Requirement already satisfied: jupyterlab-pygments in /usr/local/lib/python3.10/dist-packages (from nbconvert>=5->notebook>=4.4.1->widgetsnbextension~=3.6.0->ipywidgets) (0.3.0)\n",
            "Requirement already satisfied: markupsafe>=2.0 in /usr/local/lib/python3.10/dist-packages (from nbconvert>=5->notebook>=4.4.1->widgetsnbextension~=3.6.0->ipywidgets) (3.0.2)\n",
            "Requirement already satisfied: mistune<4,>=2.0.3 in /usr/local/lib/python3.10/dist-packages (from nbconvert>=5->notebook>=4.4.1->widgetsnbextension~=3.6.0->ipywidgets) (3.0.2)\n",
            "Requirement already satisfied: nbclient>=0.5.0 in /usr/local/lib/python3.10/dist-packages (from nbconvert>=5->notebook>=4.4.1->widgetsnbextension~=3.6.0->ipywidgets) (0.10.0)\n",
            "Requirement already satisfied: packaging in /usr/local/lib/python3.10/dist-packages (from nbconvert>=5->notebook>=4.4.1->widgetsnbextension~=3.6.0->ipywidgets) (24.2)\n",
            "Requirement already satisfied: pandocfilters>=1.4.1 in /usr/local/lib/python3.10/dist-packages (from nbconvert>=5->notebook>=4.4.1->widgetsnbextension~=3.6.0->ipywidgets) (1.5.1)\n",
            "Requirement already satisfied: tinycss2 in /usr/local/lib/python3.10/dist-packages (from nbconvert>=5->notebook>=4.4.1->widgetsnbextension~=3.6.0->ipywidgets) (1.4.0)\n",
            "Requirement already satisfied: fastjsonschema>=2.15 in /usr/local/lib/python3.10/dist-packages (from nbformat->notebook>=4.4.1->widgetsnbextension~=3.6.0->ipywidgets) (2.20.0)\n",
            "Requirement already satisfied: jsonschema>=2.6 in /usr/local/lib/python3.10/dist-packages (from nbformat->notebook>=4.4.1->widgetsnbextension~=3.6.0->ipywidgets) (4.23.0)\n",
            "Requirement already satisfied: six>=1.5 in /usr/local/lib/python3.10/dist-packages (from python-dateutil>=2.1->jupyter-client->ipykernel>=4.5.1->ipywidgets) (1.16.0)\n",
            "Requirement already satisfied: argon2-cffi-bindings in /usr/local/lib/python3.10/dist-packages (from argon2-cffi->notebook>=4.4.1->widgetsnbextension~=3.6.0->ipywidgets) (21.2.0)\n",
            "Requirement already satisfied: webencodings in /usr/local/lib/python3.10/dist-packages (from bleach!=5.0.0->nbconvert>=5->notebook>=4.4.1->widgetsnbextension~=3.6.0->ipywidgets) (0.5.1)\n",
            "Requirement already satisfied: attrs>=22.2.0 in /usr/local/lib/python3.10/dist-packages (from jsonschema>=2.6->nbformat->notebook>=4.4.1->widgetsnbextension~=3.6.0->ipywidgets) (24.2.0)\n",
            "Requirement already satisfied: jsonschema-specifications>=2023.03.6 in /usr/local/lib/python3.10/dist-packages (from jsonschema>=2.6->nbformat->notebook>=4.4.1->widgetsnbextension~=3.6.0->ipywidgets) (2024.10.1)\n",
            "Requirement already satisfied: referencing>=0.28.4 in /usr/local/lib/python3.10/dist-packages (from jsonschema>=2.6->nbformat->notebook>=4.4.1->widgetsnbextension~=3.6.0->ipywidgets) (0.35.1)\n",
            "Requirement already satisfied: rpds-py>=0.7.1 in /usr/local/lib/python3.10/dist-packages (from jsonschema>=2.6->nbformat->notebook>=4.4.1->widgetsnbextension~=3.6.0->ipywidgets) (0.21.0)\n",
            "Requirement already satisfied: jupyter-server<3,>=1.8 in /usr/local/lib/python3.10/dist-packages (from notebook-shim>=0.2.3->nbclassic>=0.4.7->notebook>=4.4.1->widgetsnbextension~=3.6.0->ipywidgets) (1.24.0)\n",
            "Requirement already satisfied: cffi>=1.0.1 in /usr/local/lib/python3.10/dist-packages (from argon2-cffi-bindings->argon2-cffi->notebook>=4.4.1->widgetsnbextension~=3.6.0->ipywidgets) (1.17.1)\n",
            "Requirement already satisfied: soupsieve>1.2 in /usr/local/lib/python3.10/dist-packages (from beautifulsoup4->nbconvert>=5->notebook>=4.4.1->widgetsnbextension~=3.6.0->ipywidgets) (2.6)\n",
            "Requirement already satisfied: pycparser in /usr/local/lib/python3.10/dist-packages (from cffi>=1.0.1->argon2-cffi-bindings->argon2-cffi->notebook>=4.4.1->widgetsnbextension~=3.6.0->ipywidgets) (2.22)\n",
            "Requirement already satisfied: anyio<4,>=3.1.0 in /usr/local/lib/python3.10/dist-packages (from jupyter-server<3,>=1.8->notebook-shim>=0.2.3->nbclassic>=0.4.7->notebook>=4.4.1->widgetsnbextension~=3.6.0->ipywidgets) (3.7.1)\n",
            "Requirement already satisfied: websocket-client in /usr/local/lib/python3.10/dist-packages (from jupyter-server<3,>=1.8->notebook-shim>=0.2.3->nbclassic>=0.4.7->notebook>=4.4.1->widgetsnbextension~=3.6.0->ipywidgets) (1.8.0)\n",
            "Requirement already satisfied: idna>=2.8 in /usr/local/lib/python3.10/dist-packages (from anyio<4,>=3.1.0->jupyter-server<3,>=1.8->notebook-shim>=0.2.3->nbclassic>=0.4.7->notebook>=4.4.1->widgetsnbextension~=3.6.0->ipywidgets) (3.10)\n",
            "Requirement already satisfied: sniffio>=1.1 in /usr/local/lib/python3.10/dist-packages (from anyio<4,>=3.1.0->jupyter-server<3,>=1.8->notebook-shim>=0.2.3->nbclassic>=0.4.7->notebook>=4.4.1->widgetsnbextension~=3.6.0->ipywidgets) (1.3.1)\n",
            "Requirement already satisfied: exceptiongroup in /usr/local/lib/python3.10/dist-packages (from anyio<4,>=3.1.0->jupyter-server<3,>=1.8->notebook-shim>=0.2.3->nbclassic>=0.4.7->notebook>=4.4.1->widgetsnbextension~=3.6.0->ipywidgets) (1.2.2)\n"
          ]
        }
      ]
    },
    {
      "cell_type": "markdown",
      "metadata": {
        "id": "1UsxiPs8yA2e"
      },
      "source": [
        "## Download a pre-trained MoViNet model\n",
        "\n",
        "In this section, we will:\n",
        "\n",
        "1. We can create a MoViNet model using the open source code provided in [`official/projects/movinet`](https://github.com/tensorflow/models/tree/master/official/projects/movinet) from TensorFlow models.\n",
        "2. Load the pretrained weights.\n",
        "3. Freeze the convolutional base, or all other layers except the final classifier head, to speed up fine-tuning.\n",
        "\n",
        "To build the model, we can start with the `a0` configuration because it is the fastest to train when benchmarked against other models. Check out the [available MoViNet models on TensorFlow Model Garden](https://github.com/tensorflow/models/blob/master/official/projects/movinet/configs/movinet.py) to find what might work for our use case."
      ]
    },
    {
      "cell_type": "code",
      "execution_count": 76,
      "metadata": {
        "colab": {
          "base_uri": "https://localhost:8080/"
        },
        "id": "rhSCM6cee05F",
        "outputId": "056f1327-fc27-43c8-ce3f-ea1c9de62c9d"
      },
      "outputs": [
        {
          "output_type": "stream",
          "name": "stdout",
          "text": [
            "movinet_a0_base/\n",
            "movinet_a0_base/checkpoint\n",
            "movinet_a0_base/ckpt-1.data-00000-of-00001\n",
            "movinet_a0_base/ckpt-1.index\n"
          ]
        },
        {
          "output_type": "execute_result",
          "data": {
            "text/plain": [
              "<tensorflow.python.checkpoint.checkpoint.CheckpointLoadStatus at 0x7bbe10267010>"
            ]
          },
          "metadata": {},
          "execution_count": 76
        }
      ],
      "source": [
        "model_id = 'a0'\n",
        "resolution = 224\n",
        "\n",
        "tf.keras.backend.clear_session()\n",
        "\n",
        "backbone = movinet.Movinet(model_id=model_id)\n",
        "backbone.trainable = False\n",
        "\n",
        "# Set num_classes=600 to load the pre-trained weights from the original model\n",
        "model = movinet_model.MovinetClassifier(backbone=backbone, num_classes=600)\n",
        "model.build([None, None, None, None, 3])\n",
        "\n",
        "# Load pre-trained weights\n",
        "!wget https://storage.googleapis.com/tf_model_garden/vision/movinet/movinet_a0_base.tar.gz -O movinet_a0_base.tar.gz -q\n",
        "!tar -xvf movinet_a0_base.tar.gz\n",
        "\n",
        "checkpoint_dir = f'movinet_{model_id}_base'\n",
        "checkpoint_path = tf.train.latest_checkpoint(checkpoint_dir)\n",
        "checkpoint = tf.train.Checkpoint(model=model)\n",
        "status = checkpoint.restore(checkpoint_path)\n",
        "status.assert_existing_objects_matched()"
      ]
    },
    {
      "cell_type": "markdown",
      "metadata": {
        "id": "BW23HVNtCXff"
      },
      "source": [
        "To build a classifier, create a function that takes the backbone and the number of classes in a dataset. The `build_classifier` function will take the backbone and the number of classes in a dataset to build the classifier. In this case, the new classifier will take a `num_classes` outputs (10 classes for this subset of UCF101)."
      ]
    },
    {
      "cell_type": "code",
      "execution_count": 77,
      "metadata": {
        "id": "6cfAelbU5Gi3"
      },
      "outputs": [],
      "source": [
        "def build_classifier(batch_size, num_frames, resolution, backbone, num_classes):\n",
        "  \"\"\"Builds a classifier on top of a backbone model.\"\"\"\n",
        "  model = movinet_model.MovinetClassifier(\n",
        "      backbone=backbone,\n",
        "      num_classes=num_classes)\n",
        "  model.build([batch_size, num_frames, resolution, resolution, 3])\n",
        "\n",
        "  return model"
      ]
    },
    {
      "cell_type": "code",
      "source": [
        "batch_size, num_frames, resolution, backbone, NUM_CLASSES"
      ],
      "metadata": {
        "colab": {
          "base_uri": "https://localhost:8080/"
        },
        "id": "CqYZd37jo_fl",
        "outputId": "2efc9826-d080-422d-c96f-d281e4565477"
      },
      "execution_count": 78,
      "outputs": [
        {
          "output_type": "execute_result",
          "data": {
            "text/plain": [
              "(8,\n",
              " 8,\n",
              " 224,\n",
              " <official.projects.movinet.modeling.movinet.Movinet at 0x7bbed13d9ab0>,\n",
              " 25)"
            ]
          },
          "metadata": {},
          "execution_count": 78
        }
      ]
    },
    {
      "cell_type": "code",
      "execution_count": 79,
      "metadata": {
        "id": "9HWSk-u7oPUZ"
      },
      "outputs": [],
      "source": [
        "model = build_classifier(batch_size, num_frames, resolution, backbone, NUM_CLASSES)"
      ]
    },
    {
      "cell_type": "code",
      "execution_count": 80,
      "metadata": {
        "colab": {
          "base_uri": "https://localhost:8080/"
        },
        "id": "CU16MYawiWOA",
        "outputId": "c2eb31d6-046b-4d2a-92c7-3f4f183f081a"
      },
      "outputs": [
        {
          "output_type": "stream",
          "name": "stdout",
          "text": [
            "Model: \"movinet_classifier_1\"\n",
            "_________________________________________________________________\n",
            " Layer (type)                Output Shape              Param #   \n",
            "=================================================================\n",
            " image (InputLayer)          [(None, None, None, Non   0         \n",
            "                             e, 3)]                              \n",
            "                                                                 \n",
            " movinet (Movinet)           ({'stem': (None, None,    911583    \n",
            "                             None, None, 8),                     \n",
            "                              'block0_layer0': (None             \n",
            "                             , None, None, None, 8),             \n",
            "                              'block1_layer0': (None             \n",
            "                             , None, None, None, 32)             \n",
            "                             , 'block1_layer1': (Non             \n",
            "                             e, None, None, None, 32             \n",
            "                             ),                                  \n",
            "                              'block1_layer2': (None             \n",
            "                             , None, None, None, 32)             \n",
            "                             , 'block2_layer0': (Non             \n",
            "                             e, None, None, None, 56             \n",
            "                             ),                                  \n",
            "                              'block2_layer1': (None             \n",
            "                             , None, None, None, 56)             \n",
            "                             , 'block2_layer2': (Non             \n",
            "                             e, None, None, None, 56             \n",
            "                             ),                                  \n",
            "                              'block3_layer0': (None             \n",
            "                             , None, None, None, 56)             \n",
            "                             , 'block3_layer1': (Non             \n",
            "                             e, None, None, None, 56             \n",
            "                             ),                                  \n",
            "                              'block3_layer2': (None             \n",
            "                             , None, None, None, 56)             \n",
            "                             , 'block3_layer3': (Non             \n",
            "                             e, None, None, None, 56             \n",
            "                             ),                                  \n",
            "                              'block4_layer0': (None             \n",
            "                             , None, None, None, 104             \n",
            "                             ),                                  \n",
            "                              'block4_layer1': (None             \n",
            "                             , None, None, None, 104             \n",
            "                             ),                                  \n",
            "                              'block4_layer2': (None             \n",
            "                             , None, None, None, 104             \n",
            "                             ),                                  \n",
            "                              'block4_layer3': (None             \n",
            "                             , None, None, None, 104             \n",
            "                             ),                                  \n",
            "                              'head': (None, None, N             \n",
            "                             one, None, 480)},                   \n",
            "                              {'state_block0_layer0_             \n",
            "                             pool_buffer': (None, No             \n",
            "                             ne, None, None, 24),                \n",
            "                              'state_block0_layer0_p             \n",
            "                             ool_frame_count': (1,),             \n",
            "                              'state_block1_layer0_p             \n",
            "                             ool_buffer': (None, Non             \n",
            "                             e, None, None, 80),                 \n",
            "                              'state_block1_layer0_p             \n",
            "                             ool_frame_count': (1,),             \n",
            "                              'state_block1_layer1_p             \n",
            "                             ool_buffer': (None, Non             \n",
            "                             e, None, None, 80),                 \n",
            "                              'state_block1_layer1_p             \n",
            "                             ool_frame_count': (1,),             \n",
            "                              'state_block1_layer2_p             \n",
            "                             ool_buffer': (None, Non             \n",
            "                             e, None, None, 80),                 \n",
            "                              'state_block1_layer2_p             \n",
            "                             ool_frame_count': (1,),             \n",
            "                              'state_block2_layer0_p             \n",
            "                             ool_buffer': (None, Non             \n",
            "                             e, None, None, 184),                \n",
            "                              'state_block2_layer0_p             \n",
            "                             ool_frame_count': (1,),             \n",
            "                              'state_block2_layer1_p             \n",
            "                             ool_buffer': (None, Non             \n",
            "                             e, None, None, 112),                \n",
            "                              'state_block2_layer1_p             \n",
            "                             ool_frame_count': (1,),             \n",
            "                              'state_block2_layer2_p             \n",
            "                             ool_buffer': (None, Non             \n",
            "                             e, None, None, 184),                \n",
            "                              'state_block2_layer2_p             \n",
            "                             ool_frame_count': (1,),             \n",
            "                              'state_block3_layer0_p             \n",
            "                             ool_buffer': (None, Non             \n",
            "                             e, None, None, 184),                \n",
            "                              'state_block3_layer0_p             \n",
            "                             ool_frame_count': (1,),             \n",
            "                              'state_block3_layer1_p             \n",
            "                             ool_buffer': (None, Non             \n",
            "                             e, None, None, 184),                \n",
            "                              'state_block3_layer1_p             \n",
            "                             ool_frame_count': (1,),             \n",
            "                              'state_block3_layer2_p             \n",
            "                             ool_buffer': (None, Non             \n",
            "                             e, None, None, 184),                \n",
            "                              'state_block3_layer2_p             \n",
            "                             ool_frame_count': (1,),             \n",
            "                              'state_block3_layer3_p             \n",
            "                             ool_buffer': (None, Non             \n",
            "                             e, None, None, 184),                \n",
            "                              'state_block3_layer3_p             \n",
            "                             ool_frame_count': (1,),             \n",
            "                              'state_block4_layer0_p             \n",
            "                             ool_buffer': (None, Non             \n",
            "                             e, None, None, 384),                \n",
            "                              'state_block4_layer0_p             \n",
            "                             ool_frame_count': (1,),             \n",
            "                              'state_block4_layer1_p             \n",
            "                             ool_buffer': (None, Non             \n",
            "                             e, None, None, 280),                \n",
            "                              'state_block4_layer1_p             \n",
            "                             ool_frame_count': (1,),             \n",
            "                              'state_block4_layer2_p             \n",
            "                             ool_buffer': (None, Non             \n",
            "                             e, None, None, 280),                \n",
            "                              'state_block4_layer2_p             \n",
            "                             ool_frame_count': (1,),             \n",
            "                              'state_block4_layer3_p             \n",
            "                             ool_buffer': (None, Non             \n",
            "                             e, None, None, 344),                \n",
            "                              'state_block4_layer3_p             \n",
            "                             ool_frame_count': (1,),             \n",
            "                              'state_head_pool_buffe             \n",
            "                             r': (None, None, None,              \n",
            "                             None, 480),                         \n",
            "                              'state_head_pool_frame             \n",
            "                             _count': (1,)})                     \n",
            "                                                                 \n",
            " classifier_head_1 (Classif  (None, 25)                1036313   \n",
            " ierHead)                                                        \n",
            "                                                                 \n",
            "=================================================================\n",
            "Total params: 1947896 (7.43 MB)\n",
            "Trainable params: 1036313 (3.95 MB)\n",
            "Non-trainable params: 911583 (3.48 MB)\n",
            "_________________________________________________________________\n"
          ]
        }
      ],
      "source": [
        "model.summary()"
      ]
    },
    {
      "cell_type": "markdown",
      "metadata": {
        "id": "JhbX7qdTN8lc"
      },
      "source": [
        "For this tutorial, choose the `tf.keras.optimizers.Adam` optimizer and the `tf.keras.losses.SparseCategoricalCrossentropy` loss function. Use the metrics argument to the view the accuracy of the model performance at every step."
      ]
    },
    {
      "cell_type": "code",
      "execution_count": 82,
      "metadata": {
        "id": "dVqBLrn1tBsd",
        "outputId": "80e7f051-fc37-4c5f-ecf1-39cc3f8e57d1",
        "colab": {
          "base_uri": "https://localhost:8080/"
        }
      },
      "outputs": [
        {
          "output_type": "stream",
          "name": "stdout",
          "text": [
            "Requirement already satisfied: tensorflow in /usr/local/lib/python3.10/dist-packages (2.18.0)\n",
            "Requirement already satisfied: absl-py>=1.0.0 in /usr/local/lib/python3.10/dist-packages (from tensorflow) (1.4.0)\n",
            "Requirement already satisfied: astunparse>=1.6.0 in /usr/local/lib/python3.10/dist-packages (from tensorflow) (1.6.3)\n",
            "Requirement already satisfied: flatbuffers>=24.3.25 in /usr/local/lib/python3.10/dist-packages (from tensorflow) (24.3.25)\n",
            "Requirement already satisfied: gast!=0.5.0,!=0.5.1,!=0.5.2,>=0.2.1 in /usr/local/lib/python3.10/dist-packages (from tensorflow) (0.6.0)\n",
            "Requirement already satisfied: google-pasta>=0.1.1 in /usr/local/lib/python3.10/dist-packages (from tensorflow) (0.2.0)\n",
            "Requirement already satisfied: libclang>=13.0.0 in /usr/local/lib/python3.10/dist-packages (from tensorflow) (18.1.1)\n",
            "Requirement already satisfied: opt-einsum>=2.3.2 in /usr/local/lib/python3.10/dist-packages (from tensorflow) (3.4.0)\n",
            "Requirement already satisfied: packaging in /usr/local/lib/python3.10/dist-packages (from tensorflow) (24.2)\n",
            "Requirement already satisfied: protobuf!=4.21.0,!=4.21.1,!=4.21.2,!=4.21.3,!=4.21.4,!=4.21.5,<6.0.0dev,>=3.20.3 in /usr/local/lib/python3.10/dist-packages (from tensorflow) (4.25.5)\n",
            "Requirement already satisfied: requests<3,>=2.21.0 in /usr/local/lib/python3.10/dist-packages (from tensorflow) (2.32.3)\n",
            "Requirement already satisfied: setuptools in /usr/local/lib/python3.10/dist-packages (from tensorflow) (75.1.0)\n",
            "Requirement already satisfied: six>=1.12.0 in /usr/local/lib/python3.10/dist-packages (from tensorflow) (1.16.0)\n",
            "Requirement already satisfied: termcolor>=1.1.0 in /usr/local/lib/python3.10/dist-packages (from tensorflow) (2.5.0)\n",
            "Requirement already satisfied: typing-extensions>=3.6.6 in /usr/local/lib/python3.10/dist-packages (from tensorflow) (4.12.2)\n",
            "Requirement already satisfied: wrapt>=1.11.0 in /usr/local/lib/python3.10/dist-packages (from tensorflow) (1.16.0)\n",
            "Requirement already satisfied: grpcio<2.0,>=1.24.3 in /usr/local/lib/python3.10/dist-packages (from tensorflow) (1.67.1)\n",
            "Requirement already satisfied: tensorboard<2.19,>=2.18 in /usr/local/lib/python3.10/dist-packages (from tensorflow) (2.18.0)\n",
            "Requirement already satisfied: keras>=3.5.0 in /usr/local/lib/python3.10/dist-packages (from tensorflow) (3.6.0)\n",
            "Requirement already satisfied: numpy<2.1.0,>=1.26.0 in /usr/local/lib/python3.10/dist-packages (from tensorflow) (1.26.4)\n",
            "Requirement already satisfied: h5py>=3.11.0 in /usr/local/lib/python3.10/dist-packages (from tensorflow) (3.12.1)\n",
            "Requirement already satisfied: ml-dtypes<0.5.0,>=0.4.0 in /usr/local/lib/python3.10/dist-packages (from tensorflow) (0.4.1)\n",
            "Requirement already satisfied: tensorflow-io-gcs-filesystem>=0.23.1 in /usr/local/lib/python3.10/dist-packages (from tensorflow) (0.37.1)\n",
            "Requirement already satisfied: wheel<1.0,>=0.23.0 in /usr/local/lib/python3.10/dist-packages (from astunparse>=1.6.0->tensorflow) (0.44.0)\n",
            "Requirement already satisfied: rich in /usr/local/lib/python3.10/dist-packages (from keras>=3.5.0->tensorflow) (13.9.4)\n",
            "Requirement already satisfied: namex in /usr/local/lib/python3.10/dist-packages (from keras>=3.5.0->tensorflow) (0.0.8)\n",
            "Requirement already satisfied: optree in /usr/local/lib/python3.10/dist-packages (from keras>=3.5.0->tensorflow) (0.13.0)\n",
            "Requirement already satisfied: charset-normalizer<4,>=2 in /usr/local/lib/python3.10/dist-packages (from requests<3,>=2.21.0->tensorflow) (3.4.0)\n",
            "Requirement already satisfied: idna<4,>=2.5 in /usr/local/lib/python3.10/dist-packages (from requests<3,>=2.21.0->tensorflow) (3.10)\n",
            "Requirement already satisfied: urllib3<3,>=1.21.1 in /usr/local/lib/python3.10/dist-packages (from requests<3,>=2.21.0->tensorflow) (2.2.3)\n",
            "Requirement already satisfied: certifi>=2017.4.17 in /usr/local/lib/python3.10/dist-packages (from requests<3,>=2.21.0->tensorflow) (2024.8.30)\n",
            "Requirement already satisfied: markdown>=2.6.8 in /usr/local/lib/python3.10/dist-packages (from tensorboard<2.19,>=2.18->tensorflow) (3.7)\n",
            "Requirement already satisfied: tensorboard-data-server<0.8.0,>=0.7.0 in /usr/local/lib/python3.10/dist-packages (from tensorboard<2.19,>=2.18->tensorflow) (0.7.2)\n",
            "Requirement already satisfied: werkzeug>=1.0.1 in /usr/local/lib/python3.10/dist-packages (from tensorboard<2.19,>=2.18->tensorflow) (3.1.3)\n",
            "Requirement already satisfied: MarkupSafe>=2.1.1 in /usr/local/lib/python3.10/dist-packages (from werkzeug>=1.0.1->tensorboard<2.19,>=2.18->tensorflow) (3.0.2)\n",
            "Requirement already satisfied: markdown-it-py>=2.2.0 in /usr/local/lib/python3.10/dist-packages (from rich->keras>=3.5.0->tensorflow) (3.0.0)\n",
            "Requirement already satisfied: pygments<3.0.0,>=2.13.0 in /usr/local/lib/python3.10/dist-packages (from rich->keras>=3.5.0->tensorflow) (2.18.0)\n",
            "Requirement already satisfied: mdurl~=0.1 in /usr/local/lib/python3.10/dist-packages (from markdown-it-py>=2.2.0->rich->keras>=3.5.0->tensorflow) (0.1.2)\n"
          ]
        }
      ],
      "source": [
        "!pip install tensorflow\n",
        "import tensorflow as tf\n",
        "\n",
        "# Assuming 'model' and 'loss_obj' are already defined\n",
        "\n",
        "num_epochs = 2\n",
        "loss_obj = tf.keras.losses.SparseCategoricalCrossentropy(from_logits=True)\n",
        "\n",
        "# Use 'adam' string instead of optimizer object\n",
        "model.compile(loss=loss_obj, optimizer='adam', metrics=['accuracy'])"
      ]
    },
    {
      "cell_type": "markdown",
      "metadata": {
        "id": "VflEr_t6CuQu"
      },
      "source": [
        "Train the model. After two epochs, observe a low loss with high accuracy for both the training and test sets."
      ]
    },
    {
      "cell_type": "code",
      "source": [
        "import tensorflow as tf\n",
        "\n",
        "# Assuming you have your data in 'x_train', 'y_train', 'x_test', 'y_test'\n",
        "# Before creating TensorFlow Datasets, ensure x_train, y_train, x_test, y_test are defined\n",
        "# For demonstration purposes, I am creating sample data, replace with your actual data\n",
        "import numpy as np\n",
        "x_train = np.random.rand(100, 32, 32, 3)  # Example image data\n",
        "y_train = np.random.randint(0, 10, size=100)  # Example labels\n",
        "x_test = np.random.rand(20, 32, 32, 3)  # Example image data\n",
        "y_test = np.random.randint(0, 10, size=20)  # Example labels\n",
        "\n",
        "\n",
        "# Create TensorFlow Datasets\n",
        "train_ds = tf.data.Dataset.from_tensor_slices((x_train, y_train)).batch(32)\n",
        "test_ds = tf.data.Dataset.from_tensor_slices((x_test, y_test)).batch(32)\n",
        "\n",
        "train_ds, test_ds # Now you can access them"
      ],
      "metadata": {
        "colab": {
          "base_uri": "https://localhost:8080/"
        },
        "id": "LS4ySVP6shzs",
        "outputId": "5c735560-6312-497d-aa55-a2f65ced2d42"
      },
      "execution_count": 85,
      "outputs": [
        {
          "output_type": "execute_result",
          "data": {
            "text/plain": [
              "(<_BatchDataset element_spec=(TensorSpec(shape=(None, 32, 32, 3), dtype=tf.float64, name=None), TensorSpec(shape=(None,), dtype=tf.int64, name=None))>,\n",
              " <_BatchDataset element_spec=(TensorSpec(shape=(None, 32, 32, 3), dtype=tf.float64, name=None), TensorSpec(shape=(None,), dtype=tf.int64, name=None))>)"
            ]
          },
          "metadata": {},
          "execution_count": 85
        }
      ]
    },
    {
      "cell_type": "code",
      "execution_count": 88,
      "metadata": {
        "colab": {
          "base_uri": "https://localhost:8080/"
        },
        "id": "9ZeiYzI0tqQG",
        "outputId": "6a6c43a7-dce6-4ee8-da4b-a537dbdaabe1"
      },
      "outputs": [
        {
          "output_type": "stream",
          "name": "stdout",
          "text": [
            "Epoch 1/2\n",
            "4/4 [==============================] - 34s 5s/step - loss: 2.9526 - accuracy: 0.1600 - val_loss: 2.3380 - val_accuracy: 0.1500\n",
            "Epoch 2/2\n",
            "4/4 [==============================] - 0s 39ms/step - loss: 2.3189 - accuracy: 0.1300 - val_loss: 2.5410 - val_accuracy: 0.0500\n"
          ]
        }
      ],
      "source": [
        "import tensorflow as tf\n",
        "import numpy as np\n",
        "\n",
        "# ... (Your existing code for defining x_train, y_train, x_test, y_test) ...\n",
        "\n",
        "# Reshape your data to add a temporal dimension of size 1 (single frame)\n",
        "x_train = x_train.reshape((-1, 1, 32, 32, 3))  # Add a temporal dimension of size 1\n",
        "x_test = x_test.reshape((-1, 1, 32, 32, 3))  # Add a temporal dimension of size 1\n",
        "\n",
        "# Create TensorFlow Datasets\n",
        "train_ds = tf.data.Dataset.from_tensor_slices((x_train, y_train)).batch(32)\n",
        "test_ds = tf.data.Dataset.from_tensor_slices((x_test, y_test)).batch(32)\n",
        "\n",
        "# Ensure model is compiled outside any @tf.function decorated functions.\n",
        "# If you have data transformations, apply them before calling 'fit'. This avoids unexpected behavior due to in-place modifications.\n",
        "num_epochs = 2\n",
        "loss_obj = tf.keras.losses.SparseCategoricalCrossentropy(from_logits=True)\n",
        "model.compile(loss=loss_obj, optimizer='adam', metrics=['accuracy']) # Ensure compile is called before fit\n",
        "\n",
        "# ... (The rest of your code for model fitting) ...\n",
        "results = model.fit(train_ds,\n",
        "                    validation_data=test_ds,\n",
        "                    epochs=num_epochs,\n",
        "                    validation_freq=1,\n",
        "                    verbose=1)"
      ]
    },
    {
      "cell_type": "markdown",
      "metadata": {
        "id": "YDk6LAciJfnA"
      },
      "source": [
        "## Save and load model\n",
        "\n",
        "This block contains codes for saving and loading trained models"
      ]
    },
    {
      "cell_type": "code",
      "execution_count": 98,
      "metadata": {
        "id": "_9cY1xYpos4i"
      },
      "outputs": [],
      "source": [
        "model.save('saved_model/my_model.keras') # Saves in the recommended .keras format"
      ]
    },
    {
      "cell_type": "code",
      "execution_count": 99,
      "metadata": {
        "id": "gHlwI3VUqinv",
        "outputId": "850003c3-e3fb-43c7-ca21-e78a2c352d84",
        "colab": {
          "base_uri": "https://localhost:8080/",
          "height": 36
        }
      },
      "outputs": [
        {
          "output_type": "execute_result",
          "data": {
            "text/plain": [
              "'/content/my_model.zip'"
            ],
            "application/vnd.google.colaboratory.intrinsic+json": {
              "type": "string"
            }
          },
          "metadata": {},
          "execution_count": 99
        }
      ],
      "source": [
        "import shutil\n",
        "\n",
        "# Specify the folder path to be downloaded\n",
        "folder_path = '/content/saved_model/my_model'  # Replace with the actual path to your folder\n",
        "\n",
        "# Create a zip file of the folder\n",
        "shutil.make_archive('/content/my_model', 'zip', folder_path)\n"
      ]
    },
    {
      "cell_type": "code",
      "source": [
        "# Download the zip file\n",
        "from google.colab import files\n",
        "\n",
        "files.download('/content/my_model.zip')"
      ],
      "metadata": {
        "id": "srpTc6lCuJ5H",
        "outputId": "2039bb43-9ea0-4387-a42f-ae53f26485d4",
        "colab": {
          "base_uri": "https://localhost:8080/",
          "height": 17
        }
      },
      "execution_count": 100,
      "outputs": [
        {
          "output_type": "display_data",
          "data": {
            "text/plain": [
              "<IPython.core.display.Javascript object>"
            ],
            "application/javascript": [
              "\n",
              "    async function download(id, filename, size) {\n",
              "      if (!google.colab.kernel.accessAllowed) {\n",
              "        return;\n",
              "      }\n",
              "      const div = document.createElement('div');\n",
              "      const label = document.createElement('label');\n",
              "      label.textContent = `Downloading \"${filename}\": `;\n",
              "      div.appendChild(label);\n",
              "      const progress = document.createElement('progress');\n",
              "      progress.max = size;\n",
              "      div.appendChild(progress);\n",
              "      document.body.appendChild(div);\n",
              "\n",
              "      const buffers = [];\n",
              "      let downloaded = 0;\n",
              "\n",
              "      const channel = await google.colab.kernel.comms.open(id);\n",
              "      // Send a message to notify the kernel that we're ready.\n",
              "      channel.send({})\n",
              "\n",
              "      for await (const message of channel.messages) {\n",
              "        // Send a message to notify the kernel that we're ready.\n",
              "        channel.send({})\n",
              "        if (message.buffers) {\n",
              "          for (const buffer of message.buffers) {\n",
              "            buffers.push(buffer);\n",
              "            downloaded += buffer.byteLength;\n",
              "            progress.value = downloaded;\n",
              "          }\n",
              "        }\n",
              "      }\n",
              "      const blob = new Blob(buffers, {type: 'application/binary'});\n",
              "      const a = document.createElement('a');\n",
              "      a.href = window.URL.createObjectURL(blob);\n",
              "      a.download = filename;\n",
              "      div.appendChild(a);\n",
              "      a.click();\n",
              "      div.remove();\n",
              "    }\n",
              "  "
            ]
          },
          "metadata": {}
        },
        {
          "output_type": "display_data",
          "data": {
            "text/plain": [
              "<IPython.core.display.Javascript object>"
            ],
            "application/javascript": [
              "download(\"download_4b39d772-2272-4d6c-b3e1-03cda76d5f33\", \"my_model.zip\", 22)"
            ]
          },
          "metadata": {}
        }
      ]
    },
    {
      "cell_type": "code",
      "execution_count": 143,
      "metadata": {
        "colab": {
          "base_uri": "https://localhost:8080/"
        },
        "id": "bQKBDQxd_sCT",
        "outputId": "f0212131-2f7f-4de3-b178-2934f30db7cb"
      },
      "outputs": [
        {
          "output_type": "stream",
          "name": "stdout",
          "text": [
            "Archive:  /content/my_model.zip\n",
            "warning [/content/my_model.zip]:  zipfile is empty\n"
          ]
        }
      ],
      "source": [
        "!unzip /content/my_model.zip -d /content/my_model"
      ]
    },
    {
      "cell_type": "markdown",
      "metadata": {
        "id": "KkLl2zF8G9W0"
      },
      "source": [
        "## Evaluate the model\n",
        "\n",
        "The model achieved high accuracy on the training dataset. Next, use Keras `Model.evaluate` to evaluate it on the test set."
      ]
    },
    {
      "cell_type": "code",
      "execution_count": 109,
      "metadata": {
        "id": "xt52679QdYiJ"
      },
      "outputs": [],
      "source": [
        "def plot_history(history):\n",
        "  \"\"\"\n",
        "    Plotting training and validation learning curves.\n",
        "\n",
        "    Args:\n",
        "      history: model history with all the metric measures\n",
        "  \"\"\"\n",
        "  fig, (ax1, ax2) = plt.subplots(2)\n",
        "\n",
        "  fig.set_size_inches(18.5, 10.5)\n",
        "\n",
        "  # Plot loss\n",
        "  ax1.set_title('Loss')\n",
        "  ax1.plot(history.history['loss'], label = 'train')\n",
        "  ax1.plot(history.history['val_loss'], label = 'test')\n",
        "  ax1.set_ylabel('Loss')\n",
        "\n",
        "  # Determine upper bound of y-axis\n",
        "  max_loss = max(history.history['loss'] + history.history['val_loss'])\n",
        "\n",
        "  ax1.set_ylim([0, np.ceil(max_loss)])\n",
        "  ax1.set_xlabel('Epoch')\n",
        "  ax1.legend(['Train', 'Validation'])\n",
        "\n",
        "  # Plot accuracy\n",
        "  ax2.set_title('Accuracy')\n",
        "  ax2.plot(history.history['accuracy'],  label = 'train')\n",
        "  ax2.plot(history.history['val_accuracy'], label = 'test')\n",
        "  ax2.set_ylabel('Accuracy')\n",
        "  ax2.set_ylim([0, 1])\n",
        "  ax2.set_xlabel('Epoch')\n",
        "  ax2.legend(['Train', 'Validation'])\n",
        "  plt.savefig(\"loss.png\")\n",
        "  plt.show()\n",
        "\n",
        "plot_history(results)"
      ]
    },
    {
      "cell_type": "code",
      "execution_count": 110,
      "metadata": {
        "colab": {
          "base_uri": "https://localhost:8080/"
        },
        "id": "NqgbzOiKuxxT",
        "outputId": "2cb6be86-b851-443f-e74f-ab561f2bec66"
      },
      "outputs": [
        {
          "output_type": "stream",
          "name": "stdout",
          "text": [
            "1/1 [==============================] - 0s 36ms/step - loss: 2.5410 - accuracy: 0.0500\n"
          ]
        },
        {
          "output_type": "execute_result",
          "data": {
            "text/plain": [
              "{'loss': 2.5409634113311768, 'accuracy': 0.05000000074505806}"
            ]
          },
          "metadata": {},
          "execution_count": 110
        }
      ],
      "source": [
        "model.evaluate(test_ds, return_dict=True)"
      ]
    },
    {
      "cell_type": "markdown",
      "metadata": {
        "id": "0VIPRaXid-uv"
      },
      "source": [
        "Confusion matrix"
      ]
    },
    {
      "cell_type": "code",
      "execution_count": 111,
      "metadata": {
        "id": "hssSdW9XHF_j"
      },
      "outputs": [],
      "source": [
        "def get_actual_predicted_labels(model,dataset):\n",
        "  \"\"\"\n",
        "    Create a list of actual ground truth values and the predictions from the model.\n",
        "\n",
        "    Args:\n",
        "      dataset: An iterable data structure, such as a TensorFlow Dataset, with features and labels.\n",
        "\n",
        "    Return:\n",
        "      Ground truth and predicted values for a particular dataset.\n",
        "  \"\"\"\n",
        "  actual = [labels for _, labels in dataset.unbatch()]\n",
        "  predicted = model.predict(dataset)\n",
        "\n",
        "  actual = tf.stack(actual, axis=0)\n",
        "  predicted = tf.concat(predicted, axis=0)\n",
        "  predicted = tf.argmax(predicted, axis=1)\n",
        "\n",
        "  return actual, predicted"
      ]
    },
    {
      "cell_type": "code",
      "execution_count": 112,
      "metadata": {
        "colab": {
          "base_uri": "https://localhost:8080/"
        },
        "id": "GlFJ9Nd3dh-I",
        "outputId": "be9fd559-efbf-47a9-fb81-b3c736cbdc89"
      },
      "outputs": [
        {
          "output_type": "stream",
          "name": "stdout",
          "text": [
            "1/1 [==============================] - 7s 7s/step\n"
          ]
        }
      ],
      "source": [
        "actual, predicted = get_actual_predicted_labels(model,test_ds)"
      ]
    },
    {
      "cell_type": "code",
      "execution_count": 113,
      "metadata": {
        "id": "_V8rk7HBIVI2"
      },
      "outputs": [],
      "source": [
        "labels = classes_1"
      ]
    },
    {
      "cell_type": "code",
      "execution_count": 114,
      "metadata": {
        "colab": {
          "base_uri": "https://localhost:8080/"
        },
        "id": "rX_OAcP7QwA-",
        "outputId": "cdd3be77-a4c0-4884-9760-de3958d0a32d"
      },
      "outputs": [
        {
          "output_type": "stream",
          "name": "stdout",
          "text": [
            "tf.Tensor([0 9 0 6 7 6 5 2 1 5 0 1 4 7 4 2 6 4 8 5], shape=(20,), dtype=int64)\n",
            "tf.Tensor([8 8 4 8 3 8 8 8 8 4 3 0 4 8 8 3 8 8 5 8], shape=(20,), dtype=int16)\n",
            "['Archery', 'BabyCrawling', 'BoxingPunchingBag', 'BoxingSpeedBag', 'CliffDiving', 'CuttingInKitchen', 'Diving', 'Fencing', 'Hammering', 'HammerThrow', 'HighJump', 'HulaHoop', 'IceDancing', 'JavelinThrow', 'LongJump', 'Mixing', 'MoppingFloor', 'PoleVault', 'Punch', 'SalsaSpin', 'Shotput', 'SumoWrestling', 'TaiChi', 'ThrowDiscus', 'TrampolineJumping']\n",
            "25\n"
          ]
        }
      ],
      "source": [
        "print(actual, tf.cast(predicted, tf.int16),labels, len(labels),sep = '\\n')"
      ]
    },
    {
      "cell_type": "code",
      "execution_count": 122,
      "metadata": {
        "id": "GGB8UOlWT_ZW"
      },
      "outputs": [],
      "source": [
        "import matplotlib.pyplot as plt\n",
        "import tensorflow as tf\n",
        "import numpy as np\n",
        "import seaborn as sns\n",
        "import pandas as pd\n",
        "\n",
        "# Assuming 'actual' and 'predicted' are obtained from 'get_actual_predicted_labels'\n",
        "# ... (your code to get actual and predicted)\n",
        "\n",
        "# Get unique classes from both 'actual' and 'predicted' to ensure alignment\n",
        "unique_classes = tf.unique(tf.concat([actual, predicted], axis=0))[0].numpy()\n",
        "# Get the maximum class label value for both actual and predictions\n",
        "num_classes = tf.reduce_max(tf.concat([actual, predicted], axis=0)).numpy() + 1\n",
        "\n",
        "# Create confusion matrix using the determined 'num_classes'\n",
        "con_mat = tf.math.confusion_matrix(\n",
        "    labels=actual, predictions=predicted, num_classes=num_classes\n",
        ").numpy()\n",
        "\n",
        "# Update labels to match the unique classes\n",
        "labels = [classes_1[i] for i in unique_classes if i < len(classes_1)]\n",
        "\n",
        "con_mat_df = pd.DataFrame(con_mat, index=labels, columns=labels)\n",
        "\n",
        "figure = plt.figure(figsize=(9, 9))\n",
        "sns.heatmap(con_mat_df, annot=True, fmt='g')\n",
        "plt.tight_layout()\n",
        "plt.ylabel('True label')\n",
        "plt.xlabel('Predicted label')\n",
        "plt.savefig('Confusion_martix_test.png', bbox_inches='tight')\n",
        "plt.show()"
      ]
    },
    {
      "cell_type": "code",
      "execution_count": 123,
      "metadata": {
        "colab": {
          "base_uri": "https://localhost:8080/",
          "height": 717
        },
        "id": "i6Q3YmE3guKS",
        "outputId": "4d4fa2ba-c841-4720-ab4c-c2efe223affe"
      },
      "outputs": [
        {
          "output_type": "display_data",
          "data": {
            "text/plain": [
              "<PIL.Image.Image image mode=RGBA size=700x700>"
            ],
            "image/png": "[encoded data removed]"
          },
          "metadata": {}
        }
      ],
      "source": [
        "from PIL import Image\n",
        "import IPython.display as display\n",
        "\n",
        "# Open the image\n",
        "image_path = '/content/video_classification/Confusion_martix_test.png'  # Replace with the actual path to your image\n",
        "image = Image.open(image_path)\n",
        "\n",
        "# Define the desired output size\n",
        "output_size = (700, 700)  # Replace with your desired size\n",
        "\n",
        "# Resize the image\n",
        "image_resized = image.resize(output_size)\n",
        "\n",
        "# Display the resized image\n",
        "display.display(image_resized)\n"
      ]
    },
    {
      "cell_type": "markdown",
      "metadata": {
        "id": "6s9Q_JBcVmN1"
      },
      "source": [
        "## Inferencing using the trained model on GIF\n",
        "\n",
        "The same can be done on video input by following bellow method\n",
        "\n",
        "In case of video input with shape ```(1, N*8, 244, 244, 3)``` we can split it into multiple samples with size ```( 1, 8, 244, 244, 3)``` and do the inference in a loop to obtain realtime detection results"
      ]
    },
    {
      "cell_type": "markdown",
      "source": [
        "Check what the classes are and number of classes"
      ],
      "metadata": {
        "id": "clvovH70zfAx"
      }
    },
    {
      "cell_type": "code",
      "execution_count": 124,
      "metadata": {
        "id": "sb-x2rSIytYk"
      },
      "outputs": [],
      "source": [
        "classes_1 = ['Archery',\n",
        " 'BabyCrawling',\n",
        " 'BoxingPunchingBag',\n",
        " 'BoxingSpeedBag',\n",
        " 'CliffDiving',\n",
        " 'CuttingInKitchen',\n",
        " 'Diving',\n",
        " 'Fencing',\n",
        " 'Hammering',\n",
        " 'HammerThrow',\n",
        " 'HighJump',\n",
        " 'HulaHoop',\n",
        " 'IceDancing',\n",
        " 'JavelinThrow',\n",
        " 'LongJump',\n",
        " 'Mixing',\n",
        " 'MoppingFloor',\n",
        " 'PoleVault',\n",
        " 'Punch',\n",
        " 'SalsaSpin',\n",
        " 'Shotput',\n",
        " 'SumoWrestling',\n",
        " 'TaiChi',\n",
        " 'ThrowDiscus',\n",
        " 'TrampolineJumping']\n",
        "\n",
        "NUM_CLASSES = len(classes_1)"
      ]
    },
    {
      "cell_type": "markdown",
      "source": [
        " The code takes a list of class labels `classes_1`, creates a list of unique classes, and generates one-hot encoded labels for each class in the original list. The resulting one-hot encoded labels are stored in the `labels_1` variable, which can be further used for tasks such as training machine learning models or performing categorical analysis."
      ],
      "metadata": {
        "id": "0AVipA1RzelN"
      }
    },
    {
      "cell_type": "code",
      "execution_count": 125,
      "metadata": {
        "id": "5VMeYGgKyyue"
      },
      "outputs": [],
      "source": [
        "import numpy as np\n",
        "\n",
        "classes_one_hot = classes_1\n",
        "\n",
        "# Create a list of unique classes\n",
        "unique_classes = np.unique(classes_one_hot)\n",
        "\n",
        "# Create one-hot encoded labels\n",
        "labels = []\n",
        "for c in classes_1:\n",
        "    label = np.asarray([1 if c == cls else 0 for cls in unique_classes])\n",
        "    labels.append(label)\n",
        "\n",
        "labels_1 = np.asarray(labels)\n",
        "\n",
        "# print(labels_1)"
      ]
    },
    {
      "cell_type": "markdown",
      "source": [
        "The provided code is designed for video inference in order to visualize the predicted output. It includes helper `load_gif`, `get_top_k` and `predict_top_k` functions that have been defined to facilitate smooth execution."
      ],
      "metadata": {
        "id": "NH0VOF6U0Eiv"
      }
    },
    {
      "cell_type": "code",
      "execution_count": 126,
      "metadata": {
        "id": "DUVINqlifedS"
      },
      "outputs": [],
      "source": [
        "def load_gif(file_path, image_size=(224, 224)):\n",
        "  \"\"\"Loads a gif file into a TF tensor.\"\"\"\n",
        "  with tf.io.gfile.GFile(file_path, 'rb') as f:\n",
        "    video = tf.io.decode_gif(f.read())\n",
        "  video = tf.image.resize(video, image_size)\n",
        "  video = tf.cast(video, tf.float32) / 255.\n",
        "  return video\n",
        "\n",
        "def get_top_k(probs, k=5, label_map=classes_1):\n",
        "  \"\"\"Outputs the top k model labels and probabilities on the given video.\"\"\"\n",
        "  top_predictions = tf.argsort(probs, axis=-1, direction='DESCENDING')[:k]\n",
        "  top_labels = tf.gather(label_map, top_predictions, axis=-1)\n",
        "  top_labels = [label.decode('utf8') for label in top_labels.numpy()]\n",
        "  top_probs = tf.gather(probs, top_predictions, axis=-1).numpy()\n",
        "  return tuple(zip(top_labels, top_probs))\n",
        "\n",
        "def predict_top_k(model, video, k=5, label_map=classes_1):\n",
        "  \"\"\"Outputs the top k model labels and probabilities on the given video.\"\"\"\n",
        "  outputs = model.predict(video[tf.newaxis])[0]\n",
        "  probs = tf.nn.softmax(outputs)\n",
        "  return get_top_k(probs, k=k, label_map=label_map)"
      ]
    },
    {
      "cell_type": "markdown",
      "source": [
        "This folder is created for storing gif of the later use"
      ],
      "metadata": {
        "id": "VFDxWKZe2ke2"
      }
    },
    {
      "cell_type": "code",
      "execution_count": 127,
      "metadata": {
        "id": "b9HLOTgeUj4o"
      },
      "outputs": [],
      "source": [
        "!mkdir sample_gifs"
      ]
    },
    {
      "cell_type": "markdown",
      "source": [
        "The purpose of the code below is to traverse through all the files in the '/content/video_classification/UCF101_subset/test' directory. It randomly selects five videos from this directory for inference. Subsequently, it converts these selected videos into GIF format and saves them in the '/content/video_classification/sample_gifs' folder. The generated GIFs can be used for future inference tasks."
      ],
      "metadata": {
        "id": "bn8rE4462suK"
      }
    },
    {
      "cell_type": "code",
      "execution_count": 137,
      "metadata": {
        "id": "Ni5_vjoHRa-C",
        "collapsed": true
      },
      "outputs": [],
      "source": [
        "import os\n",
        "import random\n",
        "from moviepy.editor import VideoFileClip\n",
        "\n",
        "# Specify the directory path\n",
        "# directory = '/content/video_classification/UCF101_subset/test' # Original path - might be incorrect\n",
        "directory = '/content/video_classification/UCF101_subset/train'  # Updated path - assuming data is directly under 'UCF101_subset'\n",
        "\n",
        "save_dir = '/content/video_classification/sample_gifs'\n",
        "\n",
        "# Ensure the directory exists before attempting to access it\n",
        "if not os.path.exists(directory):\n",
        "    print(f\"Error: Directory '{directory}' not found.\")\n",
        "    # You might want to add code here to download the dataset or\n",
        "    # create the directory if it's expected to be local.\n",
        "    # For example:\n",
        "import os\n",
        "import random\n",
        "from moviepy.editor import VideoFileClip\n",
        "\n",
        "# Specify the directory path\n",
        "# directory = '/content/video_classification/UCF101_subset/test' # Original path - might be incorrect\n",
        "directory = '/content/video_classification/UCF101_subset/train'  # Updated path - assuming data is directly under 'UCF101_subset'\n",
        "\n",
        "save_dir = '/content/video_classification/sample_gifs'\n",
        "\n",
        "# Ensure the directory exists before attempting to access it\n",
        "if not os.path.exists(directory):\n",
        "    print(f\"Error: Directory '{directory}' not found.\")\n",
        "    # You might want to add code here to download the dataset or\n",
        "    # create the directory if it's expected to be local.\n",
        "    # For example:\n",
        "    # !wget -P /content/ <dataset_download_link>\n",
        "    # !tar -xzf /content/<dataset_archive>.tar.gz\n",
        "else:\n",
        "    # Proceed with the rest of the code if the directory exists\n",
        "    # ... (rest of your code) ...\n",
        "    pass\n",
        "from moviepy.editor import VideoFileClip\n",
        "\n",
        "# Specify the directory path\n",
        "# directory = '/content/video_classification/UCF101_subset/test' # Original path - might be incorrect\n",
        "directory = '/content/video_classification/UCF101_subset/train'  # Updated path - assuming data is directly under 'UCF101_subset'\n",
        "\n",
        "save_dir = '/content/video_classification/sample_gifs'\n",
        "\n",
        "# Ensure the directory exists before attempting to access it\n",
        "if not os.path.exists(directory):\n",
        "    print(f\"Error: Directory '{directory}' not found.\")\n",
        "    # You might want to add code here to download the dataset or\n",
        "    # create the directory if it's expected to be local.\n",
        "    # For example:\n",
        "    # !wget -P /content/ <dataset_download_link>\n",
        "    # !tar -xzf /content/<dataset_archive>.tar.gz\n",
        "else:\n",
        "    # Proceed with the rest of the code if the directory exists\n",
        "    # ... (rest of your code) ...\n",
        "    pass\n"
      ]
    },
    {
      "cell_type": "markdown",
      "source": [
        "\n",
        "The provided code iterates through all the files in the '/content/video_classification/sample_gifs' directory. It utilizes these files for video classification and presents the output in the form of a GIF and displays the top five predictions associated with the video classification task."
      ],
      "metadata": {
        "id": "zQiAxCJ53sjT"
      }
    },
    {
      "cell_type": "code",
      "execution_count": 129,
      "metadata": {
        "id": "toT3DpzSSdfp"
      },
      "outputs": [],
      "source": [
        "save_dir = '/content/video_classification/sample_gifs'\n",
        "files = [file for file in os.listdir(save_dir) if file.endswith('.gif')]\n",
        "for file_name in files:\n",
        "  file_name = save_dir+'/'+file_name\n",
        "  video = load_gif(file_name, image_size=(244, 244))\n",
        "  media.show_video(video.numpy(), fps=23)\n",
        "  outputs = predict_top_k(model, video)\n",
        "  for label, prob in outputs:\n",
        "    print(label, prob)"
      ]
    },
    {
      "cell_type": "code",
      "execution_count": 130,
      "metadata": {
        "id": "-0icb1deyyKO"
      },
      "outputs": [],
      "source": [
        "save_dir = '/content/video_classification/sample_gifs'\n",
        "files = [file for file in os.listdir(save_dir) if file.endswith('.gif')]\n",
        "for file_name in files:\n",
        "  file_name = save_dir+'/'+file_name\n",
        "  video = load_gif(file_name, image_size=(244, 244))\n",
        "  media.show_video(video.numpy(), fps=23)\n",
        "  outputs = predict_top_k(model, video)\n",
        "  for label, prob in outputs:\n",
        "    print(label, prob)"
      ]
    }
  ],
  "metadata": {
    "accelerator": "GPU",
    "colab": {
      "collapsed_sections": [
        "dPx7Pp7fbgLY",
        "KbhwWLLM7FXo",
        "aYYShfhMx9DW",
        "1UsxiPs8yA2e",
        "YDk6LAciJfnA",
        "KkLl2zF8G9W0",
        "6s9Q_JBcVmN1"
      ],
      "provenance": [],
      "gpuType": "T4",
      "include_colab_link": true
    },
    "kernelspec": {
      "display_name": "Python 3",
      "name": "python3"
    }
  },
  "nbformat": 4,
  "nbformat_minor": 0
}